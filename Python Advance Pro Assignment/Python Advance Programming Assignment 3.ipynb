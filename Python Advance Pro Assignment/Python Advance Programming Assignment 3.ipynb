{
 "cells": [
  {
   "cell_type": "code",
   "execution_count": null,
   "metadata": {},
   "outputs": [],
   "source": [
    "1. Create a function to perform basic arithmetic operations that includes addition, subtraction, multiplication and \n",
    "division on a string number (e.g. \"12 + 24\" or \"23 - 21\" or \"12 // 12\" or \"12 * 21\").\n",
    "\n",
    "Here, we have 1 followed by a space, operator followed by another space and 2. For the challenge,\n",
    " we are going to have only two numbers between 1 valid operator. The return value should be a number.\n",
    "\n",
    "eval() is not allowed. In case of division, whenever the second number equals \"0\" return -1.\n",
    "\n",
    "For example:\n",
    "\n",
    "\"15 // 0\"  ➞ -1\n",
    "\n",
    "Examples\n",
    "\n",
    "arithmetic_operation(\"12 + 12\") ➞ 24 // 12 + 12 = 24\n",
    "\n",
    "arithmetic_operation(\"12 - 12\") ➞ 24 // 12 - 12 = 0\n",
    "\n",
    "arithmetic_operation(\"12 * 12\") ➞ 144 // 12 * 12 = 144\n",
    "\n",
    "arithmetic_operation(\"12 // 0\") ➞ -1 // 12 / 0 = -1\n"
   ]
  },
  {
   "cell_type": "code",
   "execution_count": 5,
   "metadata": {},
   "outputs": [
    {
     "name": "stdout",
     "output_type": "stream",
     "text": [
      "24\n",
      "0\n",
      "144\n",
      "-1\n"
     ]
    }
   ],
   "source": [
    "def arithmetic_operation (string): \n",
    "    list = string.split (\" \")\n",
    "    if list [1] == \"+\": \n",
    "        print (int(list [0]) + int(list [2]))\n",
    "    elif list [1] == \"-\": \n",
    "        print (int(list [0]) - int(list [2]))\n",
    "    elif list [1] == \"*\": \n",
    "        print (int(list [0]) * int(list [2]))\n",
    "    elif list [1] == \"//\": \n",
    "        if list [2] == \"0\" : \n",
    "            print (-1)\n",
    "        else : \n",
    "            print (int(list [0]) // int(list [2]))\n",
    "\n",
    "arithmetic_operation(\"12 + 12\") \n",
    "\n",
    "arithmetic_operation(\"12 - 12\") \n",
    "\n",
    "arithmetic_operation(\"12 * 12\") \n",
    "\n",
    "arithmetic_operation(\"12 // 0\") \n",
    "\n"
   ]
  },
  {
   "cell_type": "code",
   "execution_count": null,
   "metadata": {},
   "outputs": [],
   "source": [
    "\n",
    "2. Write a function that takes the coordinates of three points in the form of a 2d array and returns the perimeter of the triangle. \n",
    "The given points are the vertices of a triangle on a two-dimensional plane.\n",
    "\n",
    "Examples\n",
    "\n",
    "perimeter( [ [15, 7], [5, 22], [11, 1] ] ) ➞ 47.08\n",
    "\n",
    "perimeter( [ [0, 0], [0, 1], [1, 0] ] ) ➞ 3.42\n",
    "\n",
    "perimeter( [ [-10, -10], [10, 10 ], [-10, 10] ] ) ➞ 68.28\n"
   ]
  },
  {
   "cell_type": "code",
   "execution_count": 10,
   "metadata": {},
   "outputs": [
    {
     "name": "stdout",
     "output_type": "stream",
     "text": [
      "47.08\n",
      "3.41\n",
      "68.28\n"
     ]
    }
   ],
   "source": [
    "def perimeter (list): \n",
    "    import math\n",
    "    a = list [0]\n",
    "    b = list [1]\n",
    "    c = list [2]\n",
    "    print (round(math.dist (a,b) + math.dist (c,b) + math.dist (a,c),2))\n",
    "\n",
    "perimeter( [ [15, 7], [5, 22], [11, 1] ] ) \n",
    "\n",
    "perimeter( [ [0, 0], [0, 1], [1, 0] ] ) \n",
    "\n",
    "perimeter( [ [-10, -10], [10, 10 ], [-10, 10] ] ) "
   ]
  },
  {
   "cell_type": "code",
   "execution_count": null,
   "metadata": {},
   "outputs": [],
   "source": [
    "3. A city skyline can be represented as a 2-D list with 1s representing buildings. In the example below, the height of the \n",
    "tallest building is 4 (second-most right column).\n",
    "\n",
    "[[0, 0, 0, 0, 0, 0],\n",
    "[0, 0, 0, 0, 1, 0],\n",
    "[0, 0, 1, 0, 1, 0],\n",
    "[0, 1, 1, 1, 1, 0],\n",
    "[1, 1, 1, 1, 1, 1]]\n",
    "\n",
    "Create a function that takes a skyline (2-D list of 0's and 1's) and returns the height of the tallest skyscraper.\n",
    "\n",
    "Examples\n",
    "\n",
    "tallest_skyscraper([\n",
    "  [0, 0, 0, 0],\n",
    "  [0, 1, 0, 0],\n",
    "  [0, 1, 1, 0],\n",
    "  [1, 1, 1, 1]\n",
    "]) ➞ 3\n",
    "\n",
    "tallest_skyscraper([\n",
    "  [0, 1, 0, 0],\n",
    "  [0, 1, 0, 0],\n",
    "  [0, 1, 1, 0],\n",
    "  [1, 1, 1, 1]\n",
    "]) ➞ 4\n",
    "\n",
    "tallest_skyscraper([\n",
    "  [0, 0, 0, 0],\n",
    "  [0, 0, 0, 0],\n",
    "  [1, 1, 1, 0],\n",
    "  [1, 1, 1, 1]\n",
    "]) ➞ 2\n"
   ]
  },
  {
   "cell_type": "code",
   "execution_count": 13,
   "metadata": {},
   "outputs": [
    {
     "name": "stdout",
     "output_type": "stream",
     "text": [
      "3\n",
      "4\n",
      "2\n"
     ]
    }
   ],
   "source": [
    "def tallest_skyscraper (list): \n",
    "    height = []\n",
    "    \n",
    "    for i in range (len (list [0])): \n",
    "      sum = 0\n",
    "      for j in range (len (list)): \n",
    "          sum = sum + list [j][i]\n",
    "      height.append (sum)\n",
    "    print (max(height))\n",
    "\n",
    "tallest_skyscraper([\n",
    "  [0, 0, 0, 0],\n",
    "  [0, 1, 0, 0],\n",
    "  [0, 1, 1, 0],\n",
    "  [1, 1, 1, 1]\n",
    "]) \n",
    "\n",
    "tallest_skyscraper([\n",
    "  [0, 1, 0, 0],\n",
    "  [0, 1, 0, 0],\n",
    "  [0, 1, 1, 0],\n",
    "  [1, 1, 1, 1]\n",
    "]) \n",
    "\n",
    "tallest_skyscraper([\n",
    "  [0, 0, 0, 0],\n",
    "  [0, 0, 0, 0],\n",
    "  [1, 1, 1, 0],\n",
    "  [1, 1, 1, 1]\n",
    "]) \n"
   ]
  },
  {
   "cell_type": "code",
   "execution_count": null,
   "metadata": {},
   "outputs": [],
   "source": [
    "4. A financial institution provides professional services to banks and claims charges from the customers based \n",
    "on the number of man-days provided. Internally, it has set a scheme to motivate and reward staff to meet and \n",
    "exceed targeted billable utilization and revenues by paying a bonus for each day claimed from customers in excess \n",
    "of a threshold target.\n",
    "\n",
    "This quarterly scheme is calculated with a threshold target of 32 days per quarter, and the incentive payment \n",
    "for each billable day in excess of such threshold target is shown as follows:\n",
    "\n",
    "Days\t                             Bonus\n",
    "0 to 32 days\t                   Zero\n",
    "33 to 40 days\t         SGD$325 per billable day\n",
    "41 to 48 days\t         SGD$550 per billable day\n",
    "Greater than 48 days     SGD$600 per billable day\n",
    "\n",
    "Please note that incentive payment is calculated progressively. As an example, if an employee reached total billable \n",
    "days of 45 in a quarter, his/her incentive payment is computed as follows:\n",
    "\n",
    "32*0 + 8*325 + 5*550 = 5350\n",
    "\n",
    "Write a function to read the billable days of an employee and return the bonus he/she has obtained in that quarter.\n",
    "\n",
    "Examples\n",
    "\n",
    "bonus(15) ➞ 0\n",
    "\n",
    "bonus(37) ➞ 1625\n",
    "\n",
    "bonus(50) ➞ 8200"
   ]
  },
  {
   "cell_type": "code",
   "execution_count": 14,
   "metadata": {},
   "outputs": [
    {
     "name": "stdout",
     "output_type": "stream",
     "text": [
      "0\n",
      "1625\n",
      "8200\n"
     ]
    }
   ],
   "source": [
    "def bonus (days): \n",
    "    if days <= 32 : \n",
    "        print (0)\n",
    "    elif 33 <= days <= 40  : \n",
    "        print ((days-32)*325)\n",
    "    elif 41 <= days <= 48  : \n",
    "        print ((days-40)*550 + 8 * 325)\n",
    "    elif days > 48  : \n",
    "        print ((days-48)*600 + 8 * 325 + 8 * 550)\n",
    "    \n",
    "bonus(15) \n",
    "\n",
    "bonus(37)\n",
    "\n",
    "bonus(50) "
   ]
  },
  {
   "cell_type": "code",
   "execution_count": null,
   "metadata": {},
   "outputs": [],
   "source": [
    "\n",
    "5. A number is said to be Disarium if the sum of its digits raised to their respective positions is the number itself.\n",
    "\n",
    "Create a function that determines whether a number is a Disarium or not.\n",
    "\n",
    "Examples\n",
    "\n",
    "is_disarium(75) ➞ False\n",
    "# 7^1 + 5^2 = 7 + 25 = 32\n",
    "\n",
    "is_disarium(135) ➞ True\n",
    "# 1^1 + 3^2 + 5^3 = 1 + 9 + 125 = 135\n",
    "\n",
    "is_disarium(544) ➞ False\n",
    "\n",
    "is_disarium(518) ➞ True\n",
    "\n",
    "is_disarium(466) ➞ False\n",
    "\n",
    "is_disarium(8) ➞ True"
   ]
  },
  {
   "cell_type": "code",
   "execution_count": 18,
   "metadata": {},
   "outputs": [
    {
     "name": "stdout",
     "output_type": "stream",
     "text": [
      "False\n",
      "True\n",
      "False\n",
      "True\n",
      "False\n",
      "True\n"
     ]
    }
   ],
   "source": [
    "def is_disarium (num): \n",
    "    num2 = str (num)\n",
    "    sum = 0\n",
    "    for i in range (len (num2)): \n",
    "        sum = sum + int (num2[i])**(int(i)+1)\n",
    "    if sum == num : \n",
    "        print (True)\n",
    "    else : \n",
    "        print (False)\n",
    "\n",
    "\n",
    "is_disarium(75) \n",
    "\n",
    "is_disarium(135) \n",
    "\n",
    "is_disarium(544) \n",
    "\n",
    "is_disarium(518) \n",
    "\n",
    "is_disarium(466) \n",
    "\n",
    "is_disarium(8) \n"
   ]
  }
 ],
 "metadata": {
  "interpreter": {
   "hash": "b432d86b4208009344030342d8725eb6f5aebc9446fe0140143dfdec6f51fbc4"
  },
  "kernelspec": {
   "display_name": "Python 3.9.7 64-bit ('environment0': conda)",
   "language": "python",
   "name": "python3"
  },
  "language_info": {
   "codemirror_mode": {
    "name": "ipython",
    "version": 3
   },
   "file_extension": ".py",
   "mimetype": "text/x-python",
   "name": "python",
   "nbconvert_exporter": "python",
   "pygments_lexer": "ipython3",
   "version": "3.9.7"
  },
  "orig_nbformat": 4
 },
 "nbformat": 4,
 "nbformat_minor": 2
}
