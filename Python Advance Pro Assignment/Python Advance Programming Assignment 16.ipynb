{
 "cells": [
  {
   "cell_type": "markdown",
   "metadata": {},
   "source": [
    "1. Rondo Form is a type of musical structure, in which there is a recurring\n",
    "theme/refrain, notated as A. Here are the rules for valid rondo forms:\n",
    "- Rondo forms always start and end with an A section.\n",
    "- In between the A sections, there should be contrasting sections notated as\n",
    "B, then C, then D, etc... No letter should be skipped.\n",
    "- There shouldn't be any repeats in the sequence (such as ABBACCA).\n",
    "Create a function which validates whether a given string is a valid Rondo\n",
    "Form.\n",
    "Examples\n",
    "valid_rondo(\"ABACADAEAFAGAHAIAJA\") ➞ True\n",
    "valid_rondo(\"ABA\") ➞ True\n",
    "valid_rondo(\"ABBACCA\") ➞ False\n",
    "valid_rondo(\"ACAC\") ➞ False\n",
    "valid_rondo(\"A\") ➞ False\n"
   ]
  },
  {
   "cell_type": "code",
   "execution_count": 20,
   "metadata": {},
   "outputs": [
    {
     "name": "stdout",
     "output_type": "stream",
     "text": [
      "True\n",
      "True\n",
      "False\n",
      "False\n",
      "False\n"
     ]
    }
   ],
   "source": [
    "def valid_rondo (string): \n",
    "    if not string.endswith (\"A\") and string.startswith (\"A\"): \n",
    "        return False\n",
    "    elif len (string) == 1 : \n",
    "        return False \n",
    "    for i in range (len (string)-1) : \n",
    "            if string [i] == string [i + 1]: \n",
    "                return False\n",
    "    for i in range (0 , len (string),  2): \n",
    "        if string [ i ] != \"A\": \n",
    "            return False\n",
    "    for i in range (1 , len (string)-2,  2): \n",
    "        if ord (string [ i ]) != ord (string [ i + 2 ]) -1 : \n",
    "            return False\n",
    "    else : \n",
    "        return True\n",
    "\n",
    "print (valid_rondo(\"ABACADAEAFAGAHAIAJA\") )\n",
    "print (valid_rondo(\"ABA\") )\n",
    "print (valid_rondo(\"ABBACCA\") )\n",
    "print (valid_rondo(\"ACAC\") )\n",
    "print (valid_rondo(\"A\") )\n"
   ]
  },
  {
   "cell_type": "code",
   "execution_count": null,
   "metadata": {},
   "outputs": [],
   "source": [
    "2. Create a function that returns the whole of the first sentence which\n",
    "contains a specific word. Include the full stop at the end of the sentence.\n",
    "Examples\n",
    "txt = \"I have a cat. I have a mat. Things are going swell.\"\n",
    "sentence_searcher(txt, \"have\") ➞ \"I have a cat.\"\n",
    "sentence_searcher(txt, \"MAT\") ➞ \"I have a mat.\"\n",
    "sentence_searcher(txt, \"things\") ➞ \"Things are going swell.\"\n",
    "sentence_searcher(txt, \"flat\") ➞ \"\n"
   ]
  },
  {
   "cell_type": "code",
   "execution_count": 99,
   "metadata": {},
   "outputs": [
    {
     "name": "stdout",
     "output_type": "stream",
     "text": [
      "I have a cat\n",
      " I have a mat\n",
      " things are going swell\n",
      "\n"
     ]
    }
   ],
   "source": [
    "def sentence_searcher (sentence, key): \n",
    "    import re\n",
    "    pattern = f\"[a-zA-Z ]*{key.lower()}[a-zA-Z ]*(?=[.])\"\n",
    "    a = re.findall (pattern, sentence)\n",
    "    if a == []: \n",
    "        print (\"\")\n",
    "    else : \n",
    "        print (a [0] )\n",
    "\n",
    "txt = \"I have a cat. I have a mat. things are going swell.\"\n",
    "sentence_searcher(txt, \"have\")\n",
    "sentence_searcher(txt, \"MAT\") \n",
    "sentence_searcher(txt, \"things\") \n",
    "sentence_searcher(txt, \"flat\") \n"
   ]
  },
  {
   "cell_type": "code",
   "execution_count": null,
   "metadata": {},
   "outputs": [],
   "source": [
    "3. Given a number, find the \"round \"of each digit of the number. An integer is\n",
    "called \"round\" if all its digits except the leftmost (most significant) are equal to\n",
    "zero.\n",
    "- Round numbers: 4000, 1, 9, 800, 90\n",
    "- Not round numbers: 110, 707, 222, 1001\n",
    "\n",
    "Create a function that takes a number and returns the \"round\" of each digit\n",
    "(except if the digit is zero) as a string. Check out the following examples for\n",
    "more clarification.\n",
    "Examples\n",
    "sum_round(101) ➞ \"1 100\"\n",
    "sum_round(1234) ➞ \"4 30 200 1000\"\n",
    "sum_round(54210) ➞ \"10 200 4000 50000\"\n"
   ]
  },
  {
   "cell_type": "code",
   "execution_count": 112,
   "metadata": {},
   "outputs": [
    {
     "name": "stdout",
     "output_type": "stream",
     "text": [
      "1 100 \n",
      "\n",
      "4 30 200 1000 \n",
      "\n",
      "10 200 4000 50000 \n",
      "\n"
     ]
    }
   ],
   "source": [
    "def sum_round (num): \n",
    "    str_num = str (num)\n",
    "    lst = []\n",
    "    i = len(str_num)\n",
    "    b = 1 \n",
    "    while i > 0: \n",
    "        a = int(str_num [i-1]) * b \n",
    "        b = b * 10 \n",
    "        i = i - 1\n",
    "        lst.append (a)\n",
    "    for i in lst: \n",
    "        if i > 0 : \n",
    "            print (i, end = \" \")\n",
    "    print (\"\\n\")\n",
    "\n",
    "\n",
    "\n",
    "sum_round(101) \n",
    "sum_round(1234) \n",
    "sum_round(54210) "
   ]
  },
  {
   "cell_type": "code",
   "execution_count": null,
   "metadata": {},
   "outputs": [],
   "source": [
    "4. Your task, is to create N x N multiplication table, of size n provided in\n",
    "parameter.\n",
    "For example, when n is 5, the multiplication table is:\n",
    "- 1, 2, 3, 4, 5\n",
    "- 2, 4, 6, 8, 10\n",
    "- 3, 6, 9, 12, 15\n",
    "- 4, 8, 12, 16, 20\n",
    "- 5, 10, 15, 20, 25\n",
    "This example will result in:\n",
    "[[1, 2, 3, 4, 5], [2, 4, 6, 8, 10], [3, 6, 9, 12, 15], [4, 8, 12, 16, 20], [5, 10, 15, 20,\n",
    "25]]\n",
    "Examples\n",
    "multiplication_table(1) ➞ [[1]]\n",
    "multiplication_table(3) ➞ [[1, 2, 3], [2, 4, 6], [3, 6, 9]]\n"
   ]
  },
  {
   "cell_type": "code",
   "execution_count": 157,
   "metadata": {},
   "outputs": [
    {
     "name": "stdout",
     "output_type": "stream",
     "text": [
      "[[1 2 3]\n",
      " [2 4 6]\n",
      " [3 6 9]]\n"
     ]
    }
   ],
   "source": [
    "def multiplication_table (num): \n",
    "    import numpy as np\n",
    "    a = np.arange (1, num+1)\n",
    "    print (a * a[ : , None])\n",
    " \n",
    "\n",
    "multiplication_table(1)\n",
    "multiplication_table(3) "
   ]
  },
  {
   "cell_type": "code",
   "execution_count": null,
   "metadata": {},
   "outputs": [],
   "source": [
    "5. Create a function that returns True if two lines rhyme and False otherwise.\n",
    "For the purposes of this exercise, two lines rhyme if the last word from each\n",
    "sentence contains the same vowels.\n",
    "Examples\n",
    "does_rhyme(\"Sam I am!\", \"Green eggs and ham.\") ➞ True\n",
    "does_rhyme(\"Sam I am!\", \"Green eggs and HAM.\") ➞ True\n",
    "# Capitalization and punctuation should not matter.\n",
    "\n",
    "does_rhyme(\"You are off to the races\", \"a splendid day.\") ➞ False\n",
    "does_rhyme(\"and frequently do?\", \"you gotta move.\") ➞ False"
   ]
  },
  {
   "cell_type": "code",
   "execution_count": 161,
   "metadata": {},
   "outputs": [
    {
     "name": "stdout",
     "output_type": "stream",
     "text": [
      "True\n",
      "True\n",
      "False\n",
      "False\n"
     ]
    }
   ],
   "source": [
    "def does_rhyme (str1, str2): \n",
    "    lst1 = str1.split(\" \")\n",
    "    lst2 = str2.split(\" \")\n",
    "    lst_word1 = lst1 [-1].lower ()\n",
    "    lst_word2 = lst2 [-1].lower ()\n",
    "    vowel = [\"a\",\"e\",\"i\",\"o\",\"u\"]\n",
    "    vowel1 = []\n",
    "    vowel2 = []\n",
    "    for i in lst_word1 : \n",
    "        if i in vowel : \n",
    "            vowel1.append (i)\n",
    "    for i in lst_word2 : \n",
    "        if i in vowel : \n",
    "            vowel2.append (i)\n",
    "    if vowel1 == vowel2 : \n",
    "        print (True)\n",
    "    else : \n",
    "        print (False)\n",
    "\n",
    "does_rhyme(\"Sam I am!\", \"Green eggs and ham.\") \n",
    "does_rhyme(\"Sam I am!\", \"Green eggs and HAM.\")\n",
    "does_rhyme(\"You are off to the races\", \"a splendid day.\") \n",
    "does_rhyme(\"and frequently do?\", \"you gotta move.\") \n"
   ]
  }
 ],
 "metadata": {
  "interpreter": {
   "hash": "f906f9915368e05740e3b6d1b29327366d6cf36e907e5df6d069f2aad65d0549"
  },
  "kernelspec": {
   "display_name": "Python 3.9.7 64-bit ('environment1': conda)",
   "language": "python",
   "name": "python3"
  },
  "language_info": {
   "codemirror_mode": {
    "name": "ipython",
    "version": 3
   },
   "file_extension": ".py",
   "mimetype": "text/x-python",
   "name": "python",
   "nbconvert_exporter": "python",
   "pygments_lexer": "ipython3",
   "version": "3.9.7"
  },
  "orig_nbformat": 4
 },
 "nbformat": 4,
 "nbformat_minor": 2
}
