{
 "cells": [
  {
   "cell_type": "markdown",
   "metadata": {},
   "source": [
    "1. For this challenge, forget how to add two numbers together. The best explanation on what to do for this function is this meme:\n",
    "\n",
    "    Examples\n",
    "\n",
    "meme_sum(26, 39) ➞ 515\n",
    "# 2+3 = 5, 6+9 = 15\n",
    "# 26 + 39 = 515\n",
    "\n",
    "meme_sum(122, 81) ➞ 1103\n",
    "# 1+0 = 1, 2+8 = 10, 2+1 = 3\n",
    "# 122 + 81 = 1103\n",
    "\n",
    "meme_sum(1222, 30277) ➞ 31499"
   ]
  },
  {
   "cell_type": "code",
   "execution_count": null,
   "metadata": {},
   "outputs": [],
   "source": [
    "def meme_sum (num1, num2): \n",
    "    import numpy as np\n",
    "    list1 = list (str (num1))\n",
    "    list2 = list (str (num2))\n",
    "    size = max (len (list1), len (list2))\n",
    "    arr1 = []\n",
    "    arr2 = []\n",
    "    for i in list1 : \n",
    "        arr1.append (int (i))\n",
    "    for i in list2 : \n",
    "        arr2.append (int (i))\n",
    "    while len (arr1) < size : \n",
    "        arr1.insert (0, 0)\n",
    "    while len (arr2) < size : \n",
    "        arr2.insert (0, 0)\n",
    "    new_list = []\n",
    "    for i in range (size): \n",
    "        new_list.append (str(arr1[i] + arr2 [i]) )\n",
    "    \n",
    "    print (\"\".join (new_list))\n",
    "        \n",
    "\n",
    "\n",
    "meme_sum(26, 39) \n",
    "meme_sum(122, 81)\n",
    "meme_sum(1222, 30277) "
   ]
  },
  {
   "cell_type": "markdown",
   "metadata": {},
   "source": [
    "\n",
    "2. Given an integer, create a function that returns the next prime. If the number is prime, return the number itself.\n",
    "\n",
    "Examples\n",
    "\n",
    "next_prime(12) ➞ 13\n",
    "\n",
    "next_prime(24) ➞ 29\n",
    "\n",
    "next_prime(11) ➞ 11\n",
    "\n",
    "11 is a prime, so we return the number itself.\n"
   ]
  },
  {
   "cell_type": "code",
   "execution_count": null,
   "metadata": {},
   "outputs": [],
   "source": [
    "def next_prime (num): \n",
    "    def is_prime (num): \n",
    "        if num == 1: \n",
    "            return False\n",
    "        for i in range(2, num):\n",
    "            if (num % i) == 0:\n",
    "                return False\n",
    "        return True\n",
    "    while True: \n",
    "        if is_prime (num): \n",
    "            return num\n",
    "        num += 1\n",
    "print (next_prime(12))\n",
    "\n",
    "print (next_prime(24))\n",
    "\n",
    "print (next_prime(11))"
   ]
  },
  {
   "cell_type": "code",
   "execution_count": null,
   "metadata": {},
   "outputs": [],
   "source": [
    "\n",
    "3. If a person traveled up a hill for 18mins at 20mph and then traveled back down the same path at 60mph then their average speed \n",
    "traveled was 30mph.\n",
    "\n",
    "Write a function that returns the average speed traveled given an uphill time, uphill rate and a downhill rate. \n",
    "Uphill time is given in minutes. Return the rate as an integer (mph). No rounding is necessary.\n",
    "\n",
    "Examples\n",
    "\n",
    "ave_spd(18, 20, 60) ➞ 30\n",
    "\n",
    "ave_spd(30, 10, 30) ➞ 15\n",
    "\n",
    "ave_spd(30, 8, 24) ➞ 12"
   ]
  },
  {
   "cell_type": "code",
   "execution_count": null,
   "metadata": {},
   "outputs": [],
   "source": [
    "def ave_spd (time, up_speed, down_speed): \n",
    "    up_time_in_Hour = time/60\n",
    "    distance = up_time_in_Hour * up_speed \n",
    "    total_distance = 2*distance\n",
    "    down_time = distance /down_speed \n",
    "    total_time = up_time_in_Hour + down_time\n",
    "    avg_speed = total_distance/total_time\n",
    "    print (avg_speed)\n",
    "\n",
    "ave_spd(18, 20, 60)\n",
    "\n",
    "ave_spd(30, 10, 30)\n",
    "\n",
    "ave_spd(30, 8, 24)\n"
   ]
  },
  {
   "cell_type": "code",
   "execution_count": null,
   "metadata": {},
   "outputs": [],
   "source": [
    "\n",
    "4. The Kempner Function, applied to a composite number, permits to find the smallest integer greater than zero whose factorial is \n",
    "exactly divided by the number.\n",
    "\n",
    "kempner(6) ➞ 3\n",
    "\n",
    "1! = 1 % 6 > 0\n",
    "2! = 2 % 6 > 0\n",
    "3! = 6 % 6 === 0\n",
    "\n",
    "kempner(10) ➞ 5\n",
    "\n",
    "1! = 1 % 10 > 0\n",
    "2! = 2 % 10 > 0\n",
    "3! = 6 % 10 > 0\n",
    "4! = 24 % 10 > 0\n",
    "5! = 120 % 10 === 0\n",
    "\n",
    "A Kempner Function applied to a prime will always return the prime itself.\n",
    "\n",
    "kempner(2) ➞ 2\n",
    "kempner(5) ➞ 5\n",
    "\n",
    "Given an integer n, implement a Kempner Function.\n",
    "\n",
    "Examples\n",
    "\n",
    "kempner(6) ➞ 3\n",
    "\n",
    "kempner(10) ➞ 5\n",
    "\n",
    "kempner(2) ➞ 2\n"
   ]
  },
  {
   "cell_type": "code",
   "execution_count": null,
   "metadata": {},
   "outputs": [],
   "source": [
    "def kempner (num): \n",
    "    import math \n",
    "    a = 1\n",
    "    while math.factorial (a) % num != 0 : \n",
    "        a += 1 \n",
    "    print (a)\n",
    "\n",
    "kempner(6)\n",
    "\n",
    "kempner(10)\n",
    "\n",
    "kempner(2)\n"
   ]
  },
  {
   "cell_type": "markdown",
   "metadata": {},
   "source": [
    "\n",
    "5. You work in a factory, and your job is to take items from a conveyor belt and pack them into boxes.\n",
    " Each box can hold a maximum of 10 kgs. Given a list containing the weight (in kg) of each item, how many boxes would you need to pack all of the items?\n",
    "\n",
    "Example\n",
    "\n",
    "boxes([2, 1, 2, 5, 4, 3, 6, 1, 1, 9, 3, 2]) ➞ 5\n",
    "\n",
    "# Box 1 = [2, 1, 2, 5] (10kg)\n",
    "# Box 2 = [4, 3] (7kg)\n",
    "# Box 3 = [6, 1, 1] (8kg)\n",
    "# Box 4 = [9] (9kg)\n",
    "# Box 5 = [3, 2] (5kg)\n"
   ]
  },
  {
   "cell_type": "code",
   "execution_count": null,
   "metadata": {},
   "outputs": [],
   "source": [
    "def boxes (list): \n",
    "    sum = 0 \n",
    "    count = 0\n",
    "    for i in list : \n",
    "        sum += i \n",
    "        if sum >= 10: \n",
    "            sum = i \n",
    "            count += 1\n",
    "    print (count)\n",
    "\n",
    "\n",
    "boxes([2, 1, 2, 5, 4, 3, 6, 1, 1, 9, 3, 2])\n",
    "\n"
   ]
  }
 ],
 "metadata": {
  "interpreter": {
   "hash": "b432d86b4208009344030342d8725eb6f5aebc9446fe0140143dfdec6f51fbc4"
  },
  "kernelspec": {
   "display_name": "Python 3.9.7 64-bit ('environment0': conda)",
   "language": "python",
   "name": "python3"
  },
  "language_info": {
   "codemirror_mode": {
    "name": "ipython",
    "version": 3
   },
   "file_extension": ".py",
   "mimetype": "text/x-python",
   "name": "python",
   "nbconvert_exporter": "python",
   "pygments_lexer": "ipython3",
   "version": "3.9.7"
  },
  "orig_nbformat": 4
 },
 "nbformat": 4,
 "nbformat_minor": 2
}
