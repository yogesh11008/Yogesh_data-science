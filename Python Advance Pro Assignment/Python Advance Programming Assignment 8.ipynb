{
 "cells": [
  {
   "cell_type": "code",
   "execution_count": null,
   "metadata": {},
   "outputs": [],
   "source": [
    "1. Given a sentence as txt, return True if any two adjacent words have this property: One word ends with a vowel, \n",
    "while the word immediately after begins with a vowel (a e i o u).\n",
    "\n",
    "Examples\n",
    "\n",
    "vowel_links(\"a very large appliance\") ➞ True\n",
    "\n",
    "vowel_links(\"go to edabit\") ➞ True\n",
    "\n",
    "vowel_links(\"an open fire\") ➞ False\n",
    "\n",
    "vowel_links(\"a sudden applause\") ➞ False\n"
   ]
  },
  {
   "cell_type": "code",
   "execution_count": null,
   "metadata": {},
   "outputs": [],
   "source": [
    "def vowel_links (string): \n",
    "    import re\n",
    "    # vowel  = [a, e, i, o, u, A, E, I, O, U]\n",
    "    list = re.findall (\"[aeiouAEIOU] [aeiouAEIOU]\", string)\n",
    "    if list == []: \n",
    "        print (False)\n",
    "    else : \n",
    "        print (True)\n",
    "\n",
    "\n",
    "vowel_links(\"a very large appliance\")\n",
    "\n",
    "vowel_links(\"go to edabit\")\n",
    "\n",
    "vowel_links(\"an open fire\") \n",
    "\n",
    "vowel_links(\"a sudden applause\") "
   ]
  },
  {
   "cell_type": "code",
   "execution_count": null,
   "metadata": {},
   "outputs": [],
   "source": [
    "\n",
    "2. You are given three inputs: a string, one letter, and a second letter.\n",
    "\n",
    "Write a function that returns True if every instance of the first letter occurs before every instance of the second letter.\n",
    "\n",
    "Examples\n",
    "\n",
    "first_before_second(\"a rabbit jumps joyfully\", \"a\", \"j\") ➞ True\n",
    "# Every instance of \"a\" occurs before every instance of \"j\".\n",
    "\n",
    "first_before_second(\"knaves knew about waterfalls\", \"k\", \"w\") ➞  True\n",
    "\n",
    "first_before_second(\"happy birthday\", \"a\", \"y\") ➞ False\n",
    "# The \"a\" in \"birthday\" occurs after the \"y\" in \"happy\".\n",
    "\n",
    "first_before_second(\"precarious kangaroos\", \"k\", \"a\") ➞ False\n"
   ]
  },
  {
   "cell_type": "code",
   "execution_count": null,
   "metadata": {},
   "outputs": [],
   "source": [
    "def first_before_second (string, a, b): \n",
    "    list_of_a  = []\n",
    "    list_of_b  = []\n",
    "    for i in range (len (string)) : \n",
    "        if string.startswith(a, i): \n",
    "            list_of_a.append (i)\n",
    "            \n",
    "    for i in range (len (string)) : \n",
    "        if string.startswith(b, i): \n",
    "            list_of_b.append (i)\n",
    "            \n",
    "    if sorted (list_of_a)[-1] > sorted (list_of_b)[0]: \n",
    "        print (False)\n",
    "\n",
    "    else : \n",
    "        print (True)\n",
    "\n",
    "first_before_second(\"a rabbit jumps joyfully\", \"a\", \"j\") \n",
    "first_before_second(\"knaves knew about waterfalls\", \"k\", \"w\")\n",
    "first_before_second(\"happy birthday\", \"a\", \"y\") \n",
    "first_before_second(\"precarious kangaroos\", \"k\", \"a\") "
   ]
  },
  {
   "cell_type": "code",
   "execution_count": null,
   "metadata": {},
   "outputs": [],
   "source": [
    "\n",
    "3. Create a function that returns the characters from a list or string r on odd or even positions, depending on the specifier s. \n",
    "The specifier will be \"odd\" for items on odd positions (1, 3, 5, ...) and \"even\" for items on even positions (2, 4, 6, ...).\n",
    "\n",
    "Examples\n",
    "\n",
    "char_at_pos([2, 4, 6, 8, 10], \"even\") ➞ [4, 8]\n",
    "# 4 & 8 occupy the 2nd & 4th positions\n",
    "\n",
    "char_at_pos(\"EDABIT\", \"odd\") ➞ \"EAI\"\n",
    "# \"E\", \"A\" and \"I\" occupy the 1st, 3rd and 5th positions\n",
    "\n",
    "char_at_pos([\"A\", \"R\", \"B\", \"I\", \"T\", \"R\", \"A\", \"R\", \"I\", \"L\", \"Y\"], \"odd\") ➞ [\"A\", \"B\", \"T\", \"A\", \"I\", \"Y\"]\n"
   ]
  },
  {
   "cell_type": "code",
   "execution_count": 24,
   "metadata": {},
   "outputs": [
    {
     "name": "stdout",
     "output_type": "stream",
     "text": [
      "[4, 8]\n",
      "EAI\n",
      "['A', 'B', 'T', 'A', 'I', 'Y']\n"
     ]
    }
   ],
   "source": [
    "def char_at_pos (inputs, specifier): \n",
    "    if specifier == \"odd\": \n",
    "        list1 = []\n",
    "        for i in range (len (inputs)) : \n",
    "            if (i + 1 ) % 2 == 1 : \n",
    "                list1.append (inputs [i])\n",
    "\n",
    "    if specifier == \"even\": \n",
    "        list1 = []\n",
    "        for i in range (len (inputs)) : \n",
    "            if (i + 1 ) % 2 == 0 : \n",
    "                list1.append (inputs [i])\n",
    "\n",
    "    if type (inputs) == list: \n",
    "        print (list1)\n",
    "    elif type (inputs ) == str : \n",
    "        print (\"\".join (list1))\n",
    "\n",
    "char_at_pos([2, 4, 6, 8, 10], \"even\") \n",
    "char_at_pos(\"EDABIT\", \"odd\") \n",
    "char_at_pos([\"A\", \"R\", \"B\", \"I\", \"T\", \"R\", \"A\", \"R\", \"I\", \"L\", \"Y\"], \"odd\") \n"
   ]
  },
  {
   "cell_type": "code",
   "execution_count": null,
   "metadata": {},
   "outputs": [],
   "source": [
    "\n",
    "4. Write a function that returns the greatest common divisor of all list elements. If the greatest common divisor is 1, return 1.\n",
    "\n",
    "Examples\n",
    "\n",
    "GCD([10, 20, 40]) ➞ 10\n",
    "\n",
    "GCD([1, 2, 3, 100]) ➞ 1\n",
    "\n",
    "GCD([1024, 192, 2048, 512]) ➞ 64\n"
   ]
  },
  {
   "cell_type": "code",
   "execution_count": 31,
   "metadata": {},
   "outputs": [
    {
     "name": "stdout",
     "output_type": "stream",
     "text": [
      "10\n",
      "1\n",
      "64\n"
     ]
    }
   ],
   "source": [
    "def GCD (list1): \n",
    "    import math\n",
    "    gcd = math.gcd(list1[0], list1[1])\n",
    "    for i in range (2, len (list1)): \n",
    "        gcd = math.gcd (gcd, list1 [i])\n",
    "    print (gcd)\n",
    "\n",
    "GCD([10, 20, 40]) \n",
    "\n",
    "GCD([1, 2, 3, 100])\n",
    "\n",
    "GCD([1024, 192, 2048, 512]) "
   ]
  },
  {
   "cell_type": "code",
   "execution_count": null,
   "metadata": {},
   "outputs": [],
   "source": [
    "\n",
    "5. A number/string is a palindrome if the digits/characters are the same when read both forward and backward. \n",
    "Examples include \"racecar\" and 12321. Given a positive number n, check if n or the binary representation of n is palindromic. \n",
    "Return the following:\n",
    "\n",
    "- \"Decimal only.\" if only n is a palindrome.\n",
    "- \"Binary only.\" if only the binary representation of n is a palindrome.\n",
    "- \"Decimal and binary.\" if both are palindromes.\n",
    "- \"Neither!\" if neither are palindromes.\n",
    "\n",
    "Examples\n",
    "\n",
    "palindrome_type(1306031) ➞ \"Decimal only.\"\n",
    "# decimal = 1306031\n",
    "# binary  = \"100111110110110101111\"\n",
    "\n",
    "palindrome_type(427787) ➞ \"Binary only.\"\n",
    "# decimal = 427787\n",
    "# binary  = \"1101000011100001011\"\n",
    "\n",
    "palindrome_type(313) ➞ \"Decimal and binary.\"\n",
    "# decimal = 313\n",
    "# binary  = 100111001\n",
    "\n",
    "palindrome_type(934) ➞ \"Neither!\"\n",
    "# decimal = 934\n",
    "# binary  = \"1110100110\"\n"
   ]
  },
  {
   "cell_type": "code",
   "execution_count": 43,
   "metadata": {},
   "outputs": [
    {
     "name": "stdout",
     "output_type": "stream",
     "text": [
      "Decimal only.\n",
      "Binary only.\n",
      "Decimal and binary.\n",
      "Neither!\n"
     ]
    }
   ],
   "source": [
    "def palindrome_type (number): \n",
    "    number_reversed = str (number ) [::-1]\n",
    "    number_reversed = int (number_reversed)\n",
    "    if number == number_reversed : \n",
    "        number_binary =  bin(number).replace(\"0b\", \"\")\n",
    "        number_binary_reversed = number_binary [::-1]\n",
    "        if number_binary == number_binary_reversed: \n",
    "            print (\"Decimal and binary.\")\n",
    "        else : \n",
    "            print (\"Decimal only.\")\n",
    "\n",
    "    if number != number_reversed : \n",
    "        number_binary =  bin(number).replace(\"0b\", \"\")\n",
    "        number_binary_reversed = number_binary [::-1]\n",
    "        if number_binary == number_binary_reversed: \n",
    "            print (\"Binary only.\")\n",
    "        else : \n",
    "            print (\"Neither!\")\n",
    "\n",
    "palindrome_type(1306031)\n",
    "palindrome_type(427787) \n",
    "palindrome_type(313)\n",
    "palindrome_type(934) "
   ]
  }
 ],
 "metadata": {
  "interpreter": {
   "hash": "b432d86b4208009344030342d8725eb6f5aebc9446fe0140143dfdec6f51fbc4"
  },
  "kernelspec": {
   "display_name": "Python 3.9.7 64-bit ('environment0': conda)",
   "language": "python",
   "name": "python3"
  },
  "language_info": {
   "codemirror_mode": {
    "name": "ipython",
    "version": 3
   },
   "file_extension": ".py",
   "mimetype": "text/x-python",
   "name": "python",
   "nbconvert_exporter": "python",
   "pygments_lexer": "ipython3",
   "version": "3.9.7"
  },
  "orig_nbformat": 4
 },
 "nbformat": 4,
 "nbformat_minor": 2
}
