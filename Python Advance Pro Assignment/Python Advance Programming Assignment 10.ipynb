{
 "cells": [
  {
   "cell_type": "code",
   "execution_count": null,
   "metadata": {},
   "outputs": [],
   "source": [
    "1. Create a function that takes the width, height and character and returns a picture frame as a 2D list.\n",
    "\n",
    "Examples\n",
    "\n",
    "get_frame(4, 5, \"#\") ➞ [\n",
    "  [\"####\"],\n",
    "  [\"#  #\"],\n",
    "  [\"#  #\"],\n",
    "  [\"#  #\"],\n",
    "  [\"####\"]\n",
    "]\n",
    "# Frame is 4 characters wide and 5 characters tall.\n",
    "\n",
    "get_frame(10, 3, \"*\") ➞ [\n",
    "  [\"**********\"],\n",
    "  [\"*        *\"],\n",
    "  [\"**********\"]\n",
    "]\n",
    "# Frame is 10 characters and wide and 3 characters tall.\n",
    "\n",
    "get_frame(2, 5, \"0\") ➞ \"invalid\"\n",
    "# Frame's width is not more than 2."
   ]
  },
  {
   "cell_type": "code",
   "execution_count": null,
   "metadata": {},
   "outputs": [],
   "source": [
    "def get_frame (width, height, character): \n",
    "    import numpy as np\n",
    "    if width <= 2 or height <= 2 :\n",
    "        print (\"invalid\") \n",
    "    else : \n",
    "        list = []\n",
    "        list.append ([character * width])\n",
    "        for i in range (height-2): \n",
    "            list.append ([character +  \" \" * (width-2) + character])\n",
    "        list.append ([character * width])\n",
    "        matrix = np.mat (list, dtype = object)\n",
    "        print (matrix)\n",
    "\n",
    "get_frame(4, 5, \"#\") \n",
    "\n",
    "get_frame(10, 3, \"*\")\n",
    "\n",
    "get_frame(2, 5, \"0\")\n",
    "\n",
    "\n"
   ]
  },
  {
   "cell_type": "code",
   "execution_count": null,
   "metadata": {},
   "outputs": [],
   "source": [
    "\n",
    "2. Write three functions:\n",
    "  1. boolean_and\n",
    "  2. boolean_or\n",
    "  3. boolean_xor\n",
    "These functions should evaluate a list of True and False values, starting from the leftmost element and evaluating pairwise.\n",
    "\n",
    "Examples\n",
    "\n",
    "boolean_and([True, True, False, True]) ➞ False\n",
    "# [True, True, False, True] => [True, False, True] => [False, True] => False\n",
    "\n",
    "boolean_or([True, True, False, False]) ➞ True\n",
    "# [True, True, False, True] => [True, False, False] => [True, False] => True\n",
    "\n",
    "boolean_xor([True, True, False, False]) ➞ False\n",
    "# [True, True, False, False] => [False, False, False] => [False, False] => False"
   ]
  },
  {
   "cell_type": "code",
   "execution_count": null,
   "metadata": {},
   "outputs": [],
   "source": [
    "def boolean_and (list): \n",
    "    import functools as ft \n",
    "    a = ft.reduce (lambda a,b : a and b , list )\n",
    "    print (a)\n",
    "\n",
    "def boolean_or (list): \n",
    "    import functools as ft \n",
    "    a = ft.reduce (lambda a,b : a or b , list )\n",
    "    print (a)\n",
    "\n",
    "def boolean_xor (list): \n",
    "    import functools as ft \n",
    "    a = ft.reduce (lambda a,b : a ^ b , list )\n",
    "    print (a)\n",
    "\n",
    "boolean_and([True, True, False, True]) \n",
    "\n",
    "boolean_or([True, True, False, False]) \n",
    "\n",
    "boolean_xor([True, True, False, False]) "
   ]
  },
  {
   "cell_type": "code",
   "execution_count": null,
   "metadata": {},
   "outputs": [],
   "source": [
    "\n",
    "3. Create a function that creates a box based on dimension n.\n",
    "\n",
    "Examples\n",
    "\n",
    "make_box(5) ➞ [\n",
    "  \"#####\",\n",
    "  \"#   #\",\n",
    "  \"#   #\",\n",
    "  \"#   #\",\n",
    "  \"#####\"\n",
    "]\n",
    "\n",
    "make_box(3) ➞ [\n",
    "  \"###\",\n",
    "  \"# #\",\n",
    "  \"###\"\n",
    "]\n",
    "\n",
    "make_box(2) ➞ [\n",
    "  \"##\",\n",
    "  \"##\"\n",
    "]\n",
    "\n",
    "make_box(1) ➞ [\n",
    "  \"#\"\n",
    "]\n"
   ]
  },
  {
   "cell_type": "code",
   "execution_count": null,
   "metadata": {},
   "outputs": [],
   "source": [
    "def make_box (length): \n",
    "    if length == 1 : \n",
    "        print ([\"#\"])\n",
    "    else : \n",
    "        import numpy as np\n",
    "        list = []\n",
    "        list.append ('#' * length)\n",
    "        \n",
    "        for i in range (length-2): \n",
    "            list.append ('#' +  \" \" * (length - 2) + '#')\n",
    "        list.append ('#' * length)\n",
    "        for i in list : \n",
    "            print (i)\n",
    "    \n",
    "make_box(5)\n",
    "print (\"\\n\")\n",
    "make_box(3)\n",
    "print (\"\\n\")\n",
    "make_box(2)\n",
    "print (\"\\n\")\n",
    "make_box(1)"
   ]
  },
  {
   "cell_type": "code",
   "execution_count": null,
   "metadata": {},
   "outputs": [],
   "source": [
    "4. Given a common phrase, return False if any individual word in the phrase contains duplicate letters. Return True otherwise.\n",
    "\n",
    "Examples\n",
    "\n",
    "no_duplicate_letters(\"Fortune favours the bold.\") ➞ True\n",
    "\n",
    "no_duplicate_letters(\"You can lead a horse to water, but you can't make him drink.\") ➞ True\n",
    "\n",
    "no_duplicate_letters(\"Look before you leap.\") ➞ False\n",
    "# Duplicate letters in \"Look\" and \"before\".\n",
    "\n",
    "no_duplicate_letters(\"An apple a day keeps the doctor away.\") ➞ False\n",
    "# Duplicate letters in \"apple\", \"keeps\", \"doctor\", and \"away\"."
   ]
  },
  {
   "cell_type": "code",
   "execution_count": null,
   "metadata": {},
   "outputs": [],
   "source": [
    "def no_duplicate_letters (string): \n",
    "    list = string.split (\" \")\n",
    "    for i in list : \n",
    "        list2 = []\n",
    "        for j in i : \n",
    "            if j not in list2 : \n",
    "                list2.append (j)\n",
    "            else : \n",
    "                return False\n",
    "    return True\n",
    "\n",
    "print (no_duplicate_letters(\"Fortune favours the bold.\") )\n",
    "\n",
    "print (no_duplicate_letters(\"You can lead a horse to water, but you can't make him drink.\"))\n",
    "\n",
    "print (no_duplicate_letters(\"Look before you leap.\") )\n",
    "\n",
    "print (no_duplicate_letters(\"An apple a day keeps the doctor away.\") )"
   ]
  },
  {
   "cell_type": "code",
   "execution_count": null,
   "metadata": {},
   "outputs": [],
   "source": [
    "5. Write a regular expression that will match the states that voted yes to President Trump's impeachment. \n",
    "    You must use RegEx positive lookahead.\n",
    "\n",
    "Example\n",
    "\n",
    "txt = \"Texas = no, California = yes, Florida = yes, Michigan = no\"\n",
    "pattern = \"yourregularexpressionhere\"\n",
    "\n",
    "re.findall(pattern, txt) ➞ [\"California\", \"Florida\"]"
   ]
  },
  {
   "cell_type": "code",
   "execution_count": 70,
   "metadata": {},
   "outputs": [
    {
     "data": {
      "text/plain": [
       "['California', 'Florida']"
      ]
     },
     "execution_count": 70,
     "metadata": {},
     "output_type": "execute_result"
    }
   ],
   "source": [
    "import re\n",
    "txt = \"Texas = no, California = yes, Florida = yes, Michigan = no\"\n",
    "pattern = \"\\S\\w*(?= = yes)\"\n",
    "\n",
    "re.findall(pattern, txt)"
   ]
  }
 ],
 "metadata": {
  "interpreter": {
   "hash": "b432d86b4208009344030342d8725eb6f5aebc9446fe0140143dfdec6f51fbc4"
  },
  "kernelspec": {
   "display_name": "Python 3.9.7 64-bit ('environment0': conda)",
   "language": "python",
   "name": "python3"
  },
  "language_info": {
   "codemirror_mode": {
    "name": "ipython",
    "version": 3
   },
   "file_extension": ".py",
   "mimetype": "text/x-python",
   "name": "python",
   "nbconvert_exporter": "python",
   "pygments_lexer": "ipython3",
   "version": "3.9.7"
  },
  "orig_nbformat": 4
 },
 "nbformat": 4,
 "nbformat_minor": 2
}
