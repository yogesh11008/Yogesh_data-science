{
 "cells": [
  {
   "cell_type": "markdown",
   "metadata": {},
   "source": [
    "1. Given a list of numbers, create a function that removes 25% from every\n",
    "number in the list except the smallest number, and adds the total amount\n",
    "removed to the smallest number.\n",
    "Examples\n",
    "show_the_love([4, 1, 4]) ➞ [3, 3, 3]\n",
    "show_the_love([16, 10, 8]) ➞ [12, 7.5, 14.5]\n",
    "show_the_love([2, 100]) ➞ [27, 75]"
   ]
  },
  {
   "cell_type": "code",
   "execution_count": 35,
   "metadata": {},
   "outputs": [
    {
     "name": "stdout",
     "output_type": "stream",
     "text": [
      "[3.0, 3.0, 3.0]\n",
      "[12.0, 7.5, 14.5]\n",
      "[27.0, 75.0]\n"
     ]
    }
   ],
   "source": [
    "def show_the_love (list1): \n",
    "    minimum = min (list1)\n",
    "    index = list1.index (minimum)\n",
    "    reduced_list_object= map (lambda a : a * 0.75, list1)\n",
    "    reduced_list = [ i for i in reduced_list_object]\n",
    "    quartered_list_object = map (lambda a : a * 0.25, list1)\n",
    "    quartered_list = [i for i in quartered_list_object]\n",
    "    new_minimum = sum (quartered_list) + list1 [index] - (list1 [index] * 0.25)\n",
    "    reduced_list.pop (index)\n",
    "    reduced_list.insert(index, new_minimum)\n",
    "    print (reduced_list)\n",
    "    \n",
    "\n",
    "\n",
    "show_the_love([4, 1, 4])\n",
    "show_the_love([16, 10, 8])\n",
    "show_the_love([2, 100])"
   ]
  },
  {
   "cell_type": "markdown",
   "metadata": {},
   "source": [
    "2. Create a function that takes in two words as input and returns a list of three\n",
    "elements, in the following order:\n",
    "1.Shared letters between two words.\n",
    "2.Letters unique to word 1.\n",
    "3.Letters unique to word 2.\n",
    "Each element should have unique letters, and have each letter be\n",
    "alphabetically sorted.\n",
    "Examples\n",
    "letters(\"sharp\", \"soap\") ➞ [\"aps\", \"hr\", \"o\"]\n",
    "letters(\"board\", \"bored\") ➞ [\"bdor\", \"a\", \"e\"]\n",
    "letters(\"happiness\", \"envelope\") ➞ [\"enp\", \"ahis\", \"lov\"]\n",
    "letters(\"kerfuffle\", \"fluffy\") ➞ [\"flu\", \"ekr\", \"y\"]\n",
    "# Even with multiple matching letters (e.g. 3 f&#39;s), there should\n",
    "# only exist a single \"f\" in your first element.\n",
    "letters(\"match\", \"ham\") ➞ [\"ahm\", \"ct\", \"\"]\n",
    "# \"ham\" does not contain any letters that are not found already\n",
    "# in \"match\"."
   ]
  },
  {
   "cell_type": "code",
   "execution_count": 12,
   "metadata": {},
   "outputs": [
    {
     "name": "stdout",
     "output_type": "stream",
     "text": [
      "['aps', 'hr', 'o']\n",
      "['bdor', 'a', 'e']\n",
      "['enp', 'ahis', 'lov']\n",
      "['flu', 'ekr', 'y']\n",
      "['ahm', 'ct', '']\n"
     ]
    }
   ],
   "source": [
    "def letters (str1, str2):\n",
    "    common = \"\"\n",
    "    unique1 = \"\"\n",
    "    unique2 = \"\" \n",
    "    for i in range (max (len (str1), len(str2))): \n",
    "        if str1[i] in str2:\n",
    "            if str1[i] not in common:  \n",
    "                common += str1 [i]\n",
    "    \n",
    "    for i in common :\n",
    "        str1 = str1.replace (i, \"\")\n",
    "        str2 = str2.replace (i, \"\")\n",
    "    \n",
    "    for i in str1 : \n",
    "        if i not in unique1 : \n",
    "            unique1 += i\n",
    "\n",
    "    for i in str2 : \n",
    "        if i not in unique2 : \n",
    "            unique2 += i\n",
    "\n",
    "    print ([\"\".join (sorted(common)), \"\".join (sorted(unique1)), \"\".join (sorted(unique2))])\n",
    "    \n",
    "\n",
    "\n",
    "letters(\"sharp\", \"soap\") \n",
    "letters(\"board\", \"bored\")\n",
    "letters(\"happiness\", \"envelope\")\n",
    "letters(\"kerfuffle\", \"fluffy\")\n",
    "letters(\"match\", \"ham\")"
   ]
  },
  {
   "cell_type": "markdown",
   "metadata": {},
   "source": [
    "3. Write a function that pairs the first number in an array with the last, the\n",
    "second number with the second to last, etc.\n",
    "Examples\n",
    "pairs([1, 2, 3, 4, 5, 6, 7]) ➞ [[1, 7], [2, 6], [3, 5], [4, 4]]\n",
    "\n",
    "pairs([1, 2, 3, 4, 5, 6]) ➞ [[1, 6], [2, 5], [3, 4]]\n",
    "pairs([5, 9, 8, 1, 2]) ➞ [[5, 2], [9, 1], [8, 8]]\n",
    "pairs([]) ➞ []"
   ]
  },
  {
   "cell_type": "code",
   "execution_count": 32,
   "metadata": {},
   "outputs": [
    {
     "name": "stdout",
     "output_type": "stream",
     "text": [
      "[[1, 7], [2, 6], [3, 5], [4, 4]]\n",
      "[[1, 6], [2, 5], [3, 4]]\n",
      "[[5, 2], [9, 1], [8, 8]]\n",
      "[]\n"
     ]
    }
   ],
   "source": [
    "def pairs (list): \n",
    "    if len (list) == 0 : \n",
    "        print ([])\n",
    "    else : \n",
    "        import numpy as np\n",
    "        import array\n",
    "        reverse_list = list [::-1]\n",
    "        mat = np.array ([list, reverse_list])\n",
    "        final_list = []\n",
    "        if len (list) % 2 == 0 :\n",
    "            for i in range (int(len (list)/2)):\n",
    "                final_list.append (mat.T[i].tolist()) \n",
    "            print (final_list)\n",
    "          \n",
    "        if len (list) % 2 == 1 :\n",
    "            for i in range (int(len (list)//2 + 1)):\n",
    "                final_list.append (mat.T[i].tolist()) \n",
    "            print (final_list)\n",
    "          \n",
    "\n",
    "\n",
    "pairs([1, 2, 3, 4, 5, 6, 7]) \n",
    "pairs([1, 2, 3, 4, 5, 6]) \n",
    "pairs([5, 9, 8, 1, 2]) \n",
    "pairs([]) "
   ]
  },
  {
   "cell_type": "markdown",
   "metadata": {},
   "source": [
    "4. Write a function that adds two numbers. The catch, however, is that the\n",
    "numbers will be strings.\n",
    "Examples\n",
    "add_str_nums(\"4\", \"5\") ➞ \"9\"\n",
    "add_str_nums(\"abcdefg\", \"3\") ➞ \"-1\"\n",
    "add_str_nums(\"1\", \"\") ➞ \"1\"\n",
    "add_str_nums(\"1874682736267235927359283579235789257\",\n",
    "\"32652983572985729\") ➞ \"1874682736267235927391936562808774986\""
   ]
  },
  {
   "cell_type": "code",
   "execution_count": 38,
   "metadata": {},
   "outputs": [
    {
     "name": "stdout",
     "output_type": "stream",
     "text": [
      "9\n",
      "-1\n",
      "-1\n",
      "1874682736267235927391936562808774986\n"
     ]
    }
   ],
   "source": [
    "def add_str_nums(str1 , str2): \n",
    "    \n",
    "    try : \n",
    "        print (str(int (str1) + int (str2))) \n",
    "    except : \n",
    "        print (-1)\n",
    "\n",
    "add_str_nums(\"4\", \"5\") \n",
    "add_str_nums(\"abcdefg\", \"3\") \n",
    "add_str_nums(\"1\", \"\") \n",
    "add_str_nums(\"1874682736267235927359283579235789257\",\"32652983572985729\")\n"
   ]
  },
  {
   "cell_type": "markdown",
   "metadata": {},
   "source": [
    "5. lPaeesh le pemu mnxit ehess rtnisg! Oh, sorry, that was supposed to say:\n",
    "Please help me unmix these strings!\n",
    "Somehow my strings have all become mixed up; every pair of characters has\n",
    "been swapped. Help me undo this so I can understand my strings again.\n",
    "Examples\n",
    "unmix(\"123456\") ➞ \"214365\"\n",
    "unmix(\"hTsii s aimex dpus rtni.g\") ➞ \"This is a mixed up string.\"\n",
    "unmix(\"badce\") ➞ \"abcde\""
   ]
  },
  {
   "cell_type": "code",
   "execution_count": 45,
   "metadata": {},
   "outputs": [
    {
     "name": "stdout",
     "output_type": "stream",
     "text": [
      "214365\n",
      "This is a mixed up string.\n",
      "abcde\n"
     ]
    }
   ],
   "source": [
    "def unmix (str):\n",
    "    str1 = \"\" \n",
    "    str2 = \"\" \n",
    "    for i in range (len (str)): \n",
    "        if i % 2 == 0 : \n",
    "            str1 += str [i]\n",
    "        else : \n",
    "            str2 += str [i]\n",
    "    final_string = \"\"\n",
    "    if len (str) % 2 == 0 :\n",
    "        for i in range (len (str1)): \n",
    "            final_string += str2 [i] + str1 [i] \n",
    "    \n",
    "    if len (str) % 2 == 1 :\n",
    "        for i in range (len (str2)): \n",
    "            final_string += str2 [i] + str1 [i] \n",
    "        final_string += str1 [-1]\n",
    "    print (final_string)\n",
    "    \n",
    "unmix(\"123456\") \n",
    "unmix(\"hTsii  s aimex dpus rtni.g\") \n",
    "unmix(\"badce\") \n"
   ]
  },
  {
   "cell_type": "code",
   "execution_count": null,
   "metadata": {},
   "outputs": [],
   "source": []
  }
 ],
 "metadata": {
  "interpreter": {
   "hash": "f906f9915368e05740e3b6d1b29327366d6cf36e907e5df6d069f2aad65d0549"
  },
  "kernelspec": {
   "display_name": "Python 3.9.7 64-bit ('environment1': conda)",
   "language": "python",
   "name": "python3"
  },
  "language_info": {
   "codemirror_mode": {
    "name": "ipython",
    "version": 3
   },
   "file_extension": ".py",
   "mimetype": "text/x-python",
   "name": "python",
   "nbconvert_exporter": "python",
   "pygments_lexer": "ipython3",
   "version": "3.9.7"
  },
  "orig_nbformat": 4
 },
 "nbformat": 4,
 "nbformat_minor": 2
}
