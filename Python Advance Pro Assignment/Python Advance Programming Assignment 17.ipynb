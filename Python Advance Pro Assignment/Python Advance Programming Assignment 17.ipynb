{
 "cells": [
  {
   "cell_type": "code",
   "execution_count": null,
   "metadata": {},
   "outputs": [],
   "source": [
    "1. Create a function that transposes a 2D matrix.\n",
    "\n",
    "Examples\n",
    "\n",
    "transpose_matrix([\n",
    "  [1, 1, 1],\n",
    "  [2, 2, 2],\n",
    "  [3, 3, 3]\n",
    "]) ➞ [\n",
    "  [1, 2, 3],\n",
    "  [1, 2, 3],\n",
    "  [1, 2, 3]\n",
    "]\n",
    "\n",
    "transpose_matrix([\n",
    "  [5, 5],\n",
    "  [6, 7],\n",
    "  [9, 1]\n",
    "]) ➞ [\n",
    "  [5, 6, 9],\n",
    "  [5, 7, 1]\n",
    "]\n"
   ]
  },
  {
   "cell_type": "code",
   "execution_count": 2,
   "metadata": {},
   "outputs": [
    {
     "name": "stdout",
     "output_type": "stream",
     "text": [
      "[[1 2 3]\n",
      " [1 2 3]\n",
      " [1 2 3]]\n",
      "[[5 6 9]\n",
      " [5 7 1]]\n"
     ]
    }
   ],
   "source": [
    "def transpose_matrix (mat): \n",
    "  import numpy as np\n",
    "  a = np.matrix (mat)\n",
    "  print (a.T)\n",
    "\n",
    "\n",
    "\n",
    "transpose_matrix([\n",
    "  [1, 1, 1],\n",
    "  [2, 2, 2],\n",
    "  [3, 3, 3]\n",
    "])\n",
    "\n",
    "transpose_matrix([\n",
    "  [5, 5],\n",
    "  [6, 7],\n",
    "  [9, 1]\n",
    "]) "
   ]
  },
  {
   "cell_type": "code",
   "execution_count": 3,
   "metadata": {},
   "outputs": [
    {
     "ename": "SyntaxError",
     "evalue": "invalid syntax (Temp/ipykernel_1808/1372483904.py, line 1)",
     "output_type": "error",
     "traceback": [
      "\u001b[1;36m  File \u001b[1;32m\"C:\\Users\\Lenovo\\AppData\\Local\\Temp/ipykernel_1808/1372483904.py\"\u001b[1;36m, line \u001b[1;32m1\u001b[0m\n\u001b[1;33m    2. Create a function that determines whether a string is a valid hex code.\u001b[0m\n\u001b[1;37m       ^\u001b[0m\n\u001b[1;31mSyntaxError\u001b[0m\u001b[1;31m:\u001b[0m invalid syntax\n"
     ]
    }
   ],
   "source": [
    "2. Create a function that determines whether a string is a valid hex code.\n",
    "\n",
    "A hex code must begin with a pound key # and is exactly 6 characters in length. \n",
    "Each character must be a digit from 0-9 or an alphabetic character from A-F. \n",
    "All alphabetic characters may be uppercase or lowercase.\n",
    "\n",
    "Examples\n",
    "\n",
    "is_valid_hex_code(\"#CD5C5C\") ➞ True\n",
    "\n",
    "is_valid_hex_code(\"#EAECEE\") ➞ True\n",
    "\n",
    "is_valid_hex_code(\"#eaecee\") ➞ True\n",
    "\n",
    "is_valid_hex_code(\"#CD5C58C\") ➞ False\n",
    "# Length exceeds 6\n",
    "\n",
    "is_valid_hex_code(\"#CD5C5Z\") ➞ False\n",
    "# Not all alphabetic characters in A-F\n",
    "\n",
    "is_valid_hex_code(\"#CD5C&C\") ➞ False\n",
    "# Contains unacceptable character\n",
    "\n",
    "is_valid_hex_code(\"CD5C5C\") ➞ False\n",
    "# Missing #"
   ]
  },
  {
   "cell_type": "code",
   "execution_count": 17,
   "metadata": {},
   "outputs": [
    {
     "name": "stdout",
     "output_type": "stream",
     "text": [
      "True\n",
      "True\n",
      "True\n",
      "False\n",
      "False\n",
      "False\n",
      "False\n"
     ]
    }
   ],
   "source": [
    "def is_valid_hex_code (str): \n",
    "    def is_valid (string): \n",
    "        list = \"ABCDEFabcdef0123456789\"\n",
    "        for i in string [1:] : \n",
    "            if all (map(lambda x : x in list, string [1:])) : \n",
    "                return True \n",
    "            else : \n",
    "                return False\n",
    "            \n",
    "    if str [0] != \"#\": \n",
    "        return False\n",
    "    elif len (str) != 7: \n",
    "        return False\n",
    "    elif is_valid (str): \n",
    "        return True \n",
    "    else : \n",
    "        return False\n",
    "\n",
    "print (is_valid_hex_code(\"#CD5C5C\") )\n",
    "print (is_valid_hex_code(\"#EAECEE\") )\n",
    "print (is_valid_hex_code(\"#eaecee\") )\n",
    "print (is_valid_hex_code(\"#CD5C58C\") )\n",
    "print (is_valid_hex_code(\"#CD5C5Z\") )\n",
    "print (is_valid_hex_code(\"#CD5C&C\") )\n",
    "print (is_valid_hex_code(\"CD5C5C\") )"
   ]
  },
  {
   "cell_type": "code",
   "execution_count": null,
   "metadata": {},
   "outputs": [],
   "source": [
    "3. Given a list of math equations (given as strings), \n",
    "return the percentage of correct answers as a string. Round to the nearest whole number.\n",
    "\n",
    "Examples\n",
    "\n",
    "mark_maths([\"2+2=4\", \"3+2=5\", \"10-3=3\", \"5+5=10\"]) ➞ \"75%\"\n",
    "\n",
    "mark_maths([\"1-2=-2\"]), \"0%\"\n",
    "\n",
    "mark_maths([\"2+3=5\", \"4+4=9\", \"3-1=2\"]) ➞ \"67%\""
   ]
  },
  {
   "cell_type": "code",
   "execution_count": 57,
   "metadata": {},
   "outputs": [
    {
     "name": "stdout",
     "output_type": "stream",
     "text": [
      "75%\n",
      "0%\n",
      "67%\n"
     ]
    }
   ],
   "source": [
    "def mark_maths (lst): \n",
    "    import re\n",
    "    import math\n",
    "    list = []\n",
    "    for i in lst : \n",
    "        a = re.split (\"\\=\", i)\n",
    "        # print (a)\n",
    "        b = re.split (\"\\+|\\-\", a [0])\n",
    "        # print (b)\n",
    "        if  \"+\" in a [0]: \n",
    "            c = int(b [0]) + int(b [1] ) == int (a [1])\n",
    "        elif \"-\" in a [0]: \n",
    "            c = int(b [0]) - int(b [1] ) == int (a [1])\n",
    "        # print (c)\n",
    "        list.append (c)\n",
    "    # print (list)\n",
    "    print (str((round (list.count (True)/len (list)*100)) )+ \"%\")\n",
    "    \n",
    "\n",
    "mark_maths([\"2+2=4\", \"3+2=5\", \"10-3=3\", \"5+5=10\"]) \n",
    "mark_maths([\"1-2=-2\"])\n",
    "mark_maths([\"2+3=5\", \"4+4=9\", \"3-1=2\"]) "
   ]
  },
  {
   "cell_type": "code",
   "execution_count": null,
   "metadata": {},
   "outputs": [],
   "source": [
    "4. There are two players, Alice and Bob, each with a 3-by-3 grid. A referee tells Alice to fill out \n",
    "one particular row in the grid (say the second row) by putting either a 1 or a 0 in each box, \n",
    "such that the sum of the numbers in that row is odd. The referee tells Bob to fill out one column \n",
    "in the grid (say the first column) by putting either a 1 or a 0 in each box, such that the sum of the \n",
    "numbers in that column is even.\n",
    "\n",
    "Alice and Bob win the game if Alice’s numbers give an odd sum, Bob’s give an even sum, and \n",
    "(most important) they’ve each written down the same number in the one square where their row \n",
    "and column intersect.\n",
    "\n",
    "Examples\n",
    "\n",
    "magic_square_game([2, \"100\"], [1, \"101\"]) ➞ False\n",
    "\n",
    "magic_square_game([2, \"001\"], [1, \"101\"]) ➞ True\n",
    "\n",
    "magic_square_game([3, \"111\"], [2, \"011\"]) ➞ True\n",
    "\n",
    "magic_square_game([1, \"010\"], [3, \"101\"]) ➞ False\n",
    "\n",
    "# Two lists, Alice [row, \"her choice\"], Bob [column, \"his choice\"]\n"
   ]
  },
  {
   "cell_type": "code",
   "execution_count": 60,
   "metadata": {},
   "outputs": [
    {
     "name": "stdout",
     "output_type": "stream",
     "text": [
      "False\n",
      "True\n",
      "True\n",
      "False\n"
     ]
    }
   ],
   "source": [
    "def magic_square_game (list1, list2): \n",
    "    sum = 0 \n",
    "    for i in list1 [1]: \n",
    "        sum += int (i)\n",
    "    if sum %2 != 1 : \n",
    "        return False\n",
    "    elif list1 [1] [list2 [0]-1] != list2 [1] [list1 [0]-1] : \n",
    "        return False \n",
    "    else : \n",
    "        return True \n",
    "\n",
    "print (magic_square_game([2, \"100\"], [1, \"101\"]))\n",
    "print (magic_square_game([2, \"001\"], [1, \"101\"]))\n",
    "print (magic_square_game([3, \"111\"], [2, \"011\"]))\n",
    "print (magic_square_game([1, \"010\"], [3, \"101\"]))"
   ]
  },
  {
   "cell_type": "code",
   "execution_count": null,
   "metadata": {},
   "outputs": [],
   "source": [
    "\n",
    "5. From point A, an object is moving towards point B at constant velocity va (in km/hr). From point B,\n",
    " another object is moving towards point A at constant velocity vb (in km/hr). \n",
    " Knowing this and the distance between point A and B (in km), \n",
    " write a function that returns how much time passes until both objects meet.\n",
    "\n",
    "Format the output like this:\n",
    "\n",
    "\"2h 23min 34s\"\n",
    "\n",
    "Examples\n",
    "\n",
    "lets_meet(100, 10, 30) ➞ \"2h 30min 0s\"\n",
    "\n",
    "lets_meet(280, 70, 80) ➞ \"1h 52min 0s\"\n",
    "\n",
    "lets_meet(90, 75, 65) ➞ \"0h 38min 34s\"\n"
   ]
  },
  {
   "cell_type": "code",
   "execution_count": 73,
   "metadata": {},
   "outputs": [
    {
     "name": "stdout",
     "output_type": "stream",
     "text": [
      "02h 30min 00s\n",
      "01h 52min 00s\n",
      "00h 38min 34s\n"
     ]
    }
   ],
   "source": [
    "def lets_meet (dist, va, vb): \n",
    "    import datetime, time\n",
    "    sec = dist / (va + vb)*3600\n",
    "    times = time.gmtime( sec)\n",
    "    a = time.strftime (\"%Hh %Mmin %Ss\", times)\n",
    "    print (a)\n",
    "\n",
    "lets_meet(100, 10, 30)\n",
    "lets_meet(280, 70, 80)\n",
    "lets_meet(90, 75, 65)"
   ]
  }
 ],
 "metadata": {
  "interpreter": {
   "hash": "f906f9915368e05740e3b6d1b29327366d6cf36e907e5df6d069f2aad65d0549"
  },
  "kernelspec": {
   "display_name": "Python 3.9.7 64-bit ('environment1': conda)",
   "language": "python",
   "name": "python3"
  },
  "language_info": {
   "codemirror_mode": {
    "name": "ipython",
    "version": 3
   },
   "file_extension": ".py",
   "mimetype": "text/x-python",
   "name": "python",
   "nbconvert_exporter": "python",
   "pygments_lexer": "ipython3",
   "version": "3.9.7"
  },
  "orig_nbformat": 4
 },
 "nbformat": 4,
 "nbformat_minor": 2
}
