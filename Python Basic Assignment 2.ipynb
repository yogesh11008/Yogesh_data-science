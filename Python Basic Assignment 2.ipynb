{
 "cells": [
  {
   "cell_type": "markdown",
   "metadata": {},
   "source": [
    "# Question 1:\n",
    "            What are the two values of the Boolean data type? How do you write them?\n"
   ]
  },
  {
   "cell_type": "markdown",
   "metadata": {},
   "source": [
    "# Answer: \n",
    "Two values of Boolean data type are True and False. They can be written with first letter capital. "
   ]
  },
  {
   "cell_type": "markdown",
   "metadata": {},
   "source": [
    "# Question 2:\n",
    "            What are the three different types of Boolean operators?"
   ]
  },
  {
   "cell_type": "markdown",
   "metadata": {},
   "source": [
    "# Answer: \n",
    "Three Boolean operators are AND, OR, NOT\n",
    "\n",
    "1. AND: \n",
    "        \"And\" Operator needs two opearands to be evalueated as True or False. \"AND\" Operator returns True if \n",
    "        Both the operands are be True. If any of the operands is False, AND will return False. \n",
    "2. OR: \n",
    "        \"OR\" Operator also needs two opearands to be evalueated as True or False. \"OR\" Operator returns True if \n",
    "        any one of the operands is True, OR will return False if Both are False. \n",
    "\n",
    "3. NOT: \n",
    "        \"NOT\" Operator takes one operand only to be evaluated. It gives exactly opposite value. The not operator \n",
    "        returns true if its operand is a false expression and returns false if it is true. \n"
   ]
  },
  {
   "cell_type": "markdown",
   "metadata": {},
   "source": [
    "# Question 3: \n",
    "    3. Make a list of each Boolean operator's truth tables (i.e. every possible combination of\n",
    "        Boolean values for the operator and what it evaluate )."
   ]
  },
  {
   "cell_type": "markdown",
   "metadata": {},
   "source": [
    "# Answer: \n",
    "    1. AND operator : \n",
    "        Input A \t Input B\tresult\n",
    "        1\t1\t1\n",
    "        1\t0\t0\n",
    "        0\t1\t0\n",
    "        0\t0\t0\n",
    "    2. OR Operator: \n",
    "        Input A \tInput B \tresult\n",
    "        1\t1\t1\n",
    "        1\t0\t1\n",
    "        0\t1\t1\n",
    "        0\t0\t0\n",
    "    3. NOT operator \n",
    "        Input A \tresult\n",
    "        1\t0\n",
    "        0\t1\n",
    "\n"
   ]
  },
  {
   "cell_type": "markdown",
   "metadata": {},
   "source": [
    "# Question 4: \n",
    "        4. What are the values of the following expressions?"
   ]
  },
  {
   "cell_type": "markdown",
   "metadata": {},
   "source": [
    "# Answer : \n",
    "    Values of the given expression are as below.    \n",
    "    (5 > 4) and (3 == 5)\tFalse\n",
    "    not (5 > 4) \tFalse \n",
    "    (5 > 4) or (3 == 5) \tTrue\n",
    "    not ((5 > 4) or (3 == 5))\tFalse\n",
    "    (True and True) and (True == False)\tFalse\n",
    "    (not False) or (not True)\tTrue\n"
   ]
  },
  {
   "cell_type": "markdown",
   "metadata": {},
   "source": [
    "# Question 5: \n",
    "    . What are the six comparison operators?\n",
    "    "
   ]
  },
  {
   "cell_type": "markdown",
   "metadata": {},
   "source": [
    "# Answer: \n",
    "Six comparision operators are as mentioned below. \n",
    "1.\tLess Than (<) \n",
    "2.\tGreater Than (>) \n",
    "3.\tLess Than or Equal To (<=) \n",
    "4.\tGreater Than or Equal To (>=) \n",
    "5.\tEqual To (==) \n",
    "6.\tNot Equal Operator (!=)\n"
   ]
  },
  {
   "cell_type": "markdown",
   "metadata": {},
   "source": [
    "# Question 6: \n",
    "    How do you tell the difference between the equal to and assignment operators?Describe a condition and when you \n",
    "    would use one."
   ]
  },
  {
   "cell_type": "markdown",
   "metadata": {},
   "source": [
    "# Answer:\n",
    "Assignment operator (=) is used to assign values to variable. While comparison operator (==) is used to compare two values.  For example, \n",
    "If you want to assign a value 60 to variable “age”, you can do it as below\n",
    "\n",
    "Age=60\n",
    "\n",
    "Comparion operator can be used as below, where the value of the variable age is compared to 60. \n",
    "\n",
    "age=60\n",
    "if age==60:\n",
    "         print (‘you are old’)\n"
   ]
  },
  {
   "cell_type": "code",
   "execution_count": 4,
   "metadata": {},
   "outputs": [
    {
     "name": "stdout",
     "output_type": "stream",
     "text": [
      "you are old\n"
     ]
    }
   ],
   "source": [
    "age=60\n",
    "if age==60:\n",
    "        print (\"you are old\")"
   ]
  },
  {
   "cell_type": "markdown",
   "metadata": {},
   "source": [
    "# Question 7. \n",
    "Identify the three blocks in this code:"
   ]
  },
  {
   "cell_type": "markdown",
   "metadata": {},
   "source": [
    "# Answer : \n",
    "    three blocks are  print('eggs'), print('bacon') and print('ham')"
   ]
  },
  {
   "cell_type": "code",
   "execution_count": 5,
   "metadata": {},
   "outputs": [
    {
     "name": "stdout",
     "output_type": "stream",
     "text": [
      "ham\n",
      "spam\n",
      "spam\n"
     ]
    }
   ],
   "source": [
    "spam = 0\n",
    "if spam == 10:\n",
    "    print('eggs')\n",
    "if spam > 5:\n",
    "    print('bacon')\n",
    "else:\n",
    "    print('ham')\n",
    "print('spam')\n",
    "print('spam')\n"
   ]
  },
  {
   "cell_type": "markdown",
   "metadata": {},
   "source": [
    "# Question 8. \n",
    "Write code that prints Hello if 1 is stored in spam, \n",
    "prints Howdy if 2 is stored in spam, and prints Greetings! if anything else is stored in spam."
   ]
  },
  {
   "cell_type": "code",
   "execution_count": 9,
   "metadata": {},
   "outputs": [
    {
     "name": "stdout",
     "output_type": "stream",
     "text": [
      "value of spam is - 3\n",
      "Greetings!\n"
     ]
    }
   ],
   "source": [
    "#Answer : \n",
    "\n",
    "spam=int(input(\"value of spam is - \"))\n",
    "if spam == 1:\n",
    "    print ('Hello')\n",
    "elif spam == 2:\n",
    "    print ('Howdy')\n",
    "else:\n",
    "    print ('Greetings!')\n"
   ]
  },
  {
   "cell_type": "markdown",
   "metadata": {},
   "source": [
    "# Question 9.\n",
    "If your programme is stuck in an endless loop, what keys you’ll press?"
   ]
  },
  {
   "cell_type": "markdown",
   "metadata": {},
   "source": [
    "# Answer : \n",
    "    To end infinite loop, we can press ctrl + c where c stands for “cancel”. "
   ]
  },
  {
   "cell_type": "markdown",
   "metadata": {},
   "source": [
    "# Question 10.\n",
    "How can you tell the difference between break and continue?"
   ]
  },
  {
   "cell_type": "markdown",
   "metadata": {},
   "source": [
    "# Answer : \n",
    "Break terminates loop completely. While Continue terminates current iteration only \n",
    "and starts executing the loop again from beginning. "
   ]
  },
  {
   "cell_type": "markdown",
   "metadata": {},
   "source": [
    "# Question 11. \n",
    "In a for loop, what is the difference between range(10), range(0, 10), and range(0, 10, 1)?"
   ]
  },
  {
   "cell_type": "markdown",
   "metadata": {},
   "source": [
    "# Answer : \n",
    "There is no difference in all three expressions. all are same. "
   ]
  },
  {
   "cell_type": "markdown",
   "metadata": {},
   "source": [
    "# Question 12.\n",
    "Write a short program that prints the numbers 1 to 10 using a for loop. \n",
    "Then write an equivalent program that prints the numbers 1 to 10 using a while loop."
   ]
  },
  {
   "cell_type": "code",
   "execution_count": 17,
   "metadata": {},
   "outputs": [
    {
     "name": "stdout",
     "output_type": "stream",
     "text": [
      "1\n",
      "2\n",
      "3\n",
      "4\n",
      "5\n",
      "6\n",
      "7\n",
      "8\n",
      "9\n",
      "10\n"
     ]
    }
   ],
   "source": [
    "a= range (1,11) \n",
    "for i in a : \n",
    "    print (i)"
   ]
  },
  {
   "cell_type": "code",
   "execution_count": 18,
   "metadata": {},
   "outputs": [
    {
     "name": "stdout",
     "output_type": "stream",
     "text": [
      "1\n",
      "2\n",
      "3\n",
      "4\n",
      "5\n",
      "6\n",
      "7\n",
      "8\n",
      "9\n",
      "10\n"
     ]
    }
   ],
   "source": [
    "a=1\n",
    "b=11\n",
    "while a < b : \n",
    "    print (a)\n",
    "    a+= 1"
   ]
  },
  {
   "cell_type": "markdown",
   "metadata": {},
   "source": [
    "# Question 13.\n",
    "If you had a function named bacon() inside a module named spam, how would you call it after importing spam?"
   ]
  },
  {
   "cell_type": "markdown",
   "metadata": {},
   "source": [
    "# Answer : \n",
    "after importing spam module, bacon() function can be called using below syntax \n",
    "spam.bacon ()"
   ]
  }
 ],
 "metadata": {
  "kernelspec": {
   "display_name": "Python 3",
   "language": "python",
   "name": "python3"
  },
  "language_info": {
   "codemirror_mode": {
    "name": "ipython",
    "version": 3
   },
   "file_extension": ".py",
   "mimetype": "text/x-python",
   "name": "python",
   "nbconvert_exporter": "python",
   "pygments_lexer": "ipython3",
   "version": "3.8.5"
  }
 },
 "nbformat": 4,
 "nbformat_minor": 4
}
