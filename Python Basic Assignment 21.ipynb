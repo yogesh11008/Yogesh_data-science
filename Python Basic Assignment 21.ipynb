{
 "cells": [
  {
   "cell_type": "markdown",
   "metadata": {},
   "source": [
    "### 1. Add the current date to the text file today.txt as a string."
   ]
  },
  {
   "cell_type": "code",
   "execution_count": 81,
   "metadata": {},
   "outputs": [],
   "source": [
    "from datetime import datetime\n",
    "import os\n",
    "\n",
    "Current_time = datetime.now().strftime(\"%d/%m/%y,  %H:%M:%S\")\n",
    "with open (\"today.txt\", \"w\") as f : \n",
    "    f.write ( Current_time) \n"
   ]
  },
  {
   "cell_type": "markdown",
   "metadata": {},
   "source": [
    "### 2. Read the text file today.txt into the string today_string"
   ]
  },
  {
   "cell_type": "code",
   "execution_count": 59,
   "metadata": {},
   "outputs": [
    {
     "name": "stdout",
     "output_type": "stream",
     "text": [
      "20/10/21,  07:49:56\n"
     ]
    }
   ],
   "source": [
    "with open (\"today.txt\", \"r\") as f :\n",
    "    today_string = f.read ()\n",
    "    print (today_string)"
   ]
  },
  {
   "cell_type": "markdown",
   "metadata": {},
   "source": [
    "### 3. Parse the date from today_string."
   ]
  },
  {
   "cell_type": "code",
   "execution_count": 62,
   "metadata": {},
   "outputs": [
    {
     "data": {
      "text/plain": [
       "'20/10/21'"
      ]
     },
     "execution_count": 62,
     "metadata": {},
     "output_type": "execute_result"
    }
   ],
   "source": [
    "today_string[0:8]"
   ]
  },
  {
   "cell_type": "markdown",
   "metadata": {},
   "source": [
    "### 4. List the files in your current directory"
   ]
  },
  {
   "cell_type": "code",
   "execution_count": 68,
   "metadata": {},
   "outputs": [
    {
     "name": "stdout",
     "output_type": "stream",
     "text": [
      "the files in my current directory are : \n",
      "\n"
     ]
    },
    {
     "data": {
      "text/plain": [
       "['.idea',\n",
       " '.ipynb_checkpoints',\n",
       " '1. pandas 27 june 2021.ipynb',\n",
       " '1. train.csv',\n",
       " '19.2.MySQL',\n",
       " '19.3 MongoDB',\n",
       " '2. Numpy 11 07 2021.ipynb',\n",
       " '3. Pandas 17 07 2021.ipynb',\n",
       " 'djproject1',\n",
       " 'pandas',\n",
       " 'Pandas data manipulation .ipynb',\n",
       " 'plotly .ipynb',\n",
       " 'Python Basic Assignment 21.ipynb',\n",
       " 'sql basic 3 pm class.ipynb',\n",
       " 'today.txt',\n",
       " 'Transformation.ipynb']"
      ]
     },
     "execution_count": 68,
     "metadata": {},
     "output_type": "execute_result"
    }
   ],
   "source": [
    "print (\"the files in my current directory are : \\n\") \n",
    "os.listdir ()"
   ]
  },
  {
   "cell_type": "markdown",
   "metadata": {},
   "source": [
    "### 5. Create a list of all of the files in your parent directory (minimum five files should be available)."
   ]
  },
  {
   "cell_type": "code",
   "execution_count": 74,
   "metadata": {},
   "outputs": [
    {
     "name": "stdout",
     "output_type": "stream",
     "text": [
      "here is the list of all directories of my parent directory : \n"
     ]
    },
    {
     "data": {
      "text/plain": [
       "[' ineuron',\n",
       " '.android',\n",
       " '.astropy',\n",
       " '.BigNox',\n",
       " '.conda',\n",
       " '.condarc',\n",
       " '.dotnet',\n",
       " '.ipynb_checkpoints',\n",
       " '.ipython',\n",
       " '.jupyter',\n",
       " '.matplotlib',\n",
       " '.python_history',\n",
       " '3D Objects',\n",
       " 'anaconda3',\n",
       " 'AppData',\n",
       " 'Application Data',\n",
       " 'Contacts',\n",
       " 'Cookies',\n",
       " 'Creative Cloud Files',\n",
       " 'Desktop',\n",
       " 'djproject1',\n",
       " 'Documents',\n",
       " 'Downloads',\n",
       " 'Favorites',\n",
       " 'inittk.ini',\n",
       " 'inst.ini',\n",
       " 'IntelGraphicsProfiles',\n",
       " 'Links',\n",
       " 'Local Settings',\n",
       " 'MicrosoftEdgeBackups',\n",
       " 'Music',\n",
       " 'My Documents',\n",
       " 'NetHood',\n",
       " 'NTUSER.DAT',\n",
       " 'ntuser.dat.LOG1',\n",
       " 'ntuser.dat.LOG2',\n",
       " 'NTUSER.DAT{722c5005-1aec-11eb-8880-daf34be78c3c}.TM.blf',\n",
       " 'NTUSER.DAT{722c5005-1aec-11eb-8880-daf34be78c3c}.TMContainer00000000000000000001.regtrans-ms',\n",
       " 'NTUSER.DAT{722c5005-1aec-11eb-8880-daf34be78c3c}.TMContainer00000000000000000002.regtrans-ms',\n",
       " 'ntuser.ini',\n",
       " 'nuuid.ini',\n",
       " 'Pictures',\n",
       " 'Postman',\n",
       " 'PrintHood',\n",
       " 'PycharmProjects',\n",
       " 'Recent',\n",
       " 'Saved Games',\n",
       " 'Searches',\n",
       " 'SendTo',\n",
       " 'Start Menu',\n",
       " 'Templates',\n",
       " 'useruid.ini',\n",
       " 'Videos']"
      ]
     },
     "execution_count": 74,
     "metadata": {},
     "output_type": "execute_result"
    }
   ],
   "source": [
    "print (\"here is the list of all directories of my parent directory : \")\n",
    "os.listdir (os.path.dirname(os.getcwd ()))"
   ]
  },
  {
   "cell_type": "markdown",
   "metadata": {},
   "source": [
    "### 6. Use multiprocessing to create three separate processes. Make each one wait a random number of seconds between one and five, print the current time, and then exit."
   ]
  },
  {
   "cell_type": "code",
   "execution_count": 77,
   "metadata": {},
   "outputs": [],
   "source": [
    "def squares (num) : \n",
    "    print (num * num)\n",
    "def cubes (num) : \n",
    "    print (num * num * num)\n",
    "    \n",
    "import multiprocessing as mp\n",
    "if __name__ ==\"__main__\": \n",
    "    \n",
    "    process1 = mp.Process(target=squares, args=(3,))\n",
    "    process2 = mp.Process(target=cubes, args=(6,))\n",
    "    process1.start()\n",
    "    process2.start()\n",
    "    process1.join()\n",
    "    process2.join()"
   ]
  },
  {
   "cell_type": "markdown",
   "metadata": {},
   "source": [
    "### 7. Create a date object of your day of birth."
   ]
  },
  {
   "cell_type": "code",
   "execution_count": 5,
   "metadata": {},
   "outputs": [
    {
     "name": "stdout",
     "output_type": "stream",
     "text": [
      "1990-07-31\n"
     ]
    }
   ],
   "source": [
    "import datetime\n",
    "my_birthday = datetime.date(1990, 7 ,31)\n",
    "print  (my_birthday)"
   ]
  },
  {
   "cell_type": "markdown",
   "metadata": {},
   "source": [
    "### 8. What day of the week was your day of birth?"
   ]
  },
  {
   "cell_type": "code",
   "execution_count": 99,
   "metadata": {},
   "outputs": [
    {
     "data": {
      "text/plain": [
       "'Tuesday'"
      ]
     },
     "execution_count": 99,
     "metadata": {},
     "output_type": "execute_result"
    }
   ],
   "source": [
    "import datetime\n",
    "day_of_week = ['Monday', 'Tuesday', 'Wednesday', 'Thursday', 'Friday', 'Saturday']\n",
    "my_birthday = datetime.date(1990, 7 ,31)\n",
    "day_of_week[my_birthday.weekday()]"
   ]
  },
  {
   "cell_type": "markdown",
   "metadata": {},
   "source": [
    "### 9. When will you be (or when were you) 10,000 days old?"
   ]
  },
  {
   "cell_type": "code",
   "execution_count": 10,
   "metadata": {},
   "outputs": [
    {
     "name": "stdout",
     "output_type": "stream",
     "text": [
      "i will be 10,000 days old on : \n",
      "2017-12-16\n"
     ]
    }
   ],
   "source": [
    "newDate = my_birthday + datetime.timedelta (days=10000)\n",
    "print (\"i was 10,000 days old on : \" )\n",
    "print (newDate)"
   ]
  }
 ],
 "metadata": {
  "kernelspec": {
   "display_name": "Python 3",
   "language": "python",
   "name": "python3"
  },
  "language_info": {
   "codemirror_mode": {
    "name": "ipython",
    "version": 3
   },
   "file_extension": ".py",
   "mimetype": "text/x-python",
   "name": "python",
   "nbconvert_exporter": "python",
   "pygments_lexer": "ipython3",
   "version": "3.8.5"
  }
 },
 "nbformat": 4,
 "nbformat_minor": 4
}
