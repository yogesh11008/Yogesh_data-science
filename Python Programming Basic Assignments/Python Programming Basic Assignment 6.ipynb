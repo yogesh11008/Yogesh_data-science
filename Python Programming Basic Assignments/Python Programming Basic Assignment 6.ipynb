{
 "cells": [
  {
   "cell_type": "markdown",
   "metadata": {},
   "source": [
    "1. Write a Python Program to Display Fibonacci Sequence Using Recursion?"
   ]
  },
  {
   "cell_type": "code",
   "execution_count": null,
   "metadata": {},
   "outputs": [],
   "source": [
    "\n",
    "def fibo (num): \n",
    "    if num == 1 : \n",
    "        print ([0])\n",
    "    elif num == 2 : \n",
    "        print ([0, 1])\n",
    "    else : \n",
    "        Fibonacci_Sequence = [0, 1]\n",
    "          \n",
    "        def fibo_extension(): \n",
    "            last_number = Fibonacci_Sequence [-1]\n",
    "            second_last_number = Fibonacci_Sequence [-2]\n",
    "            Fibonacci_Sequence.append (last_number + second_last_number)\n",
    "            if len (Fibonacci_Sequence)< num: \n",
    "                return fibo_extension()\n",
    "        fibo_extension()\n",
    "        print (Fibonacci_Sequence)\n",
    "#test by putting different number\n",
    "fibo (8)"
   ]
  },
  {
   "cell_type": "markdown",
   "metadata": {},
   "source": [
    "2. Write a Python Program to Find Factorial of Number Using Recursion?"
   ]
  },
  {
   "cell_type": "code",
   "execution_count": null,
   "metadata": {},
   "outputs": [],
   "source": [
    "def factorial (num): \n",
    "    if num<0 : \n",
    "        print (\"factorial is not defined for negative value\")\n",
    "    elif num ==1 or num == 0: \n",
    "        return 1\n",
    "    else : \n",
    "        return num * factorial (num-1)\n",
    "        \n",
    "factorial (10)"
   ]
  },
  {
   "cell_type": "markdown",
   "metadata": {},
   "source": [
    "3. Write a Python Program to calculate your Body Mass Index?"
   ]
  },
  {
   "cell_type": "code",
   "execution_count": null,
   "metadata": {},
   "outputs": [],
   "source": [
    "weight = float (input (\"enter your weight in kg : \"))\n",
    "height = float (input (\"enter your height in meter : \"))\n",
    "bmi = weight/(height**2)\n",
    "print ( f\"your body mass index is {bmi} \")"
   ]
  },
  {
   "cell_type": "markdown",
   "metadata": {},
   "source": [
    "4. Write a Python Program to calculate the natural logarithm of any number?"
   ]
  },
  {
   "cell_type": "code",
   "execution_count": null,
   "metadata": {},
   "outputs": [],
   "source": [
    "import math \n",
    "math.log(5)"
   ]
  },
  {
   "cell_type": "markdown",
   "metadata": {},
   "source": [
    "5. Write a Python Program for cube sum of first n natural numbers?"
   ]
  },
  {
   "cell_type": "code",
   "execution_count": null,
   "metadata": {},
   "outputs": [],
   "source": [
    "def cube_sum (num): \n",
    "    if num<0 or num==0 or type(num)== float: \n",
    "        print (f\" {num} is not a natural number \")\n",
    "    elif num ==1: \n",
    "        return 1\n",
    "    else : \n",
    "        return (num**3) + cube_sum (num-1)\n",
    "cube_sum (4)"
   ]
  }
 ],
 "metadata": {
  "interpreter": {
   "hash": "f906f9915368e05740e3b6d1b29327366d6cf36e907e5df6d069f2aad65d0549"
  },
  "kernelspec": {
   "display_name": "Python 3.9.7 64-bit ('environment1': conda)",
   "name": "python3"
  },
  "language_info": {
   "codemirror_mode": {
    "name": "ipython",
    "version": 3
   },
   "file_extension": ".py",
   "mimetype": "text/x-python",
   "name": "python",
   "nbconvert_exporter": "python",
   "pygments_lexer": "ipython3",
   "version": "3.9.7"
  },
  "orig_nbformat": 4
 },
 "nbformat": 4,
 "nbformat_minor": 2
}
