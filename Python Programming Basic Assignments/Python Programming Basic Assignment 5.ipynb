{
 "cells": [
  {
   "cell_type": "code",
   "execution_count": null,
   "metadata": {},
   "outputs": [],
   "source": [
    "1. Write a Python Program to Find LCM?\n"
   ]
  },
  {
   "cell_type": "code",
   "execution_count": 1,
   "metadata": {},
   "outputs": [
    {
     "name": "stdout",
     "output_type": "stream",
     "text": [
      "30\n"
     ]
    }
   ],
   "source": [
    "def LCM (num1, num2): \n",
    "    import numpy as np\n",
    "    a = np.lcm (num1, num2)\n",
    "    print (a)\n",
    "LCM (15, 10)\n"
   ]
  },
  {
   "cell_type": "code",
   "execution_count": null,
   "metadata": {},
   "outputs": [],
   "source": [
    "2. Write a Python Program to Find HCF?\n"
   ]
  },
  {
   "cell_type": "code",
   "execution_count": 3,
   "metadata": {},
   "outputs": [
    {
     "name": "stdout",
     "output_type": "stream",
     "text": [
      "5\n"
     ]
    }
   ],
   "source": [
    "def HCF (num1, num2): \n",
    "    import numpy as np\n",
    "    a = np.gcd (num1, num2)\n",
    "    print (a)\n",
    "HCF (15, 10)"
   ]
  },
  {
   "cell_type": "code",
   "execution_count": null,
   "metadata": {},
   "outputs": [],
   "source": [
    "3. Write a Python Program to Convert Decimal to Binary, Octal and Hexadecimal?\n"
   ]
  },
  {
   "cell_type": "code",
   "execution_count": 9,
   "metadata": {},
   "outputs": [
    {
     "name": "stdout",
     "output_type": "stream",
     "text": [
      "101\n",
      "17\n",
      "19\n"
     ]
    }
   ],
   "source": [
    "def DecimalToBinary (num): \n",
    "    print (bin(num).replace (\"0b\", \"\"))\n",
    "def DecimalToOctal (num): \n",
    "    print (oct(num).replace (\"0o\", \"\"))\n",
    "def DecimalToHexadecimal (num): \n",
    "    print (hex(num).replace (\"0x\", \"\"))\n",
    "\n",
    "DecimalToBinary (5)\n",
    "DecimalToOctal (15)\n",
    "DecimalToHexadecimal (25)"
   ]
  },
  {
   "cell_type": "code",
   "execution_count": null,
   "metadata": {},
   "outputs": [],
   "source": [
    "4. Write a Python Program To Find ASCII value of a character?\n"
   ]
  },
  {
   "cell_type": "code",
   "execution_count": 13,
   "metadata": {},
   "outputs": [
    {
     "name": "stdout",
     "output_type": "stream",
     "text": [
      "65\n",
      "110\n"
     ]
    }
   ],
   "source": [
    "print (ord (\"A\"))\n",
    "print (ord (\"n\"))"
   ]
  },
  {
   "cell_type": "code",
   "execution_count": null,
   "metadata": {},
   "outputs": [],
   "source": [
    "5. Write a Python Program to Make a Simple Calculator with 4 basic mathematical operations?"
   ]
  },
  {
   "cell_type": "code",
   "execution_count": 16,
   "metadata": {},
   "outputs": [
    {
     "name": "stdout",
     "output_type": "stream",
     "text": [
      "56.0 + 56.0 = 112.0\n"
     ]
    }
   ],
   "source": [
    "\n",
    "\n",
    "while True:\n",
    "    arithmetic_operation = input(\"what do you want to do ? sum, subtract, multiply, devide: \")\n",
    "\n",
    "    num1 = float(input(\"Enter first number: \"))\n",
    "    num2 = float(input(\"Enter second number: \"))\n",
    "\n",
    "    if arithmetic_operation == 'sum':\n",
    "        print(num1, \"+\", num2, \"=\", num1 + num2 )\n",
    "\n",
    "    elif arithmetic_operation == 'subtract':\n",
    "        print(num1, \"-\", num2, \"=\", num1 - num2)\n",
    "\n",
    "    elif arithmetic_operation == 'multiply':\n",
    "        print(num1, \"*\", num2, \"=\", num1 * num2)\n",
    "\n",
    "    elif arithmetic_operation == 'devide':\n",
    "        print(num1, \"/\", num2, \"=\", num1 / num2 )\n",
    "    \n",
    "    \n",
    "    next_calculation = input(\"do you want to perform another calculation ? (yes/no): \")\n",
    "    if next_calculation == \"no\":\n",
    "        break\n",
    "\n",
    "    else:\n",
    "        continue"
   ]
  }
 ],
 "metadata": {
  "interpreter": {
   "hash": "f906f9915368e05740e3b6d1b29327366d6cf36e907e5df6d069f2aad65d0549"
  },
  "kernelspec": {
   "display_name": "Python 3.9.7 64-bit ('environment1': conda)",
   "name": "python3"
  },
  "language_info": {
   "codemirror_mode": {
    "name": "ipython",
    "version": 3
   },
   "file_extension": ".py",
   "mimetype": "text/x-python",
   "name": "python",
   "nbconvert_exporter": "python",
   "pygments_lexer": "ipython3",
   "version": "3.9.7"
  },
  "orig_nbformat": 4
 },
 "nbformat": 4,
 "nbformat_minor": 2
}
