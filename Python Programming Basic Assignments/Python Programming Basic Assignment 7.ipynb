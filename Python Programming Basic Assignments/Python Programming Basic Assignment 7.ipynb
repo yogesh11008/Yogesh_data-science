{
 "cells": [
  {
   "cell_type": "markdown",
   "metadata": {},
   "source": [
    "1. Write a Python Program to find sum of array?"
   ]
  },
  {
   "cell_type": "code",
   "execution_count": null,
   "metadata": {},
   "outputs": [],
   "source": [
    "import numpy as np\n",
    "arr1 = np.random.randint (20, size = (3,4))\n",
    "arr2 = np.random.randint (20, size = (3,4))\n",
    "print (arr1)\n",
    "print (arr2)\n",
    "np.add(arr1, arr2)"
   ]
  },
  {
   "cell_type": "markdown",
   "metadata": {},
   "source": [
    "2. Write a Python Program to find largest element in an array?"
   ]
  },
  {
   "cell_type": "code",
   "execution_count": null,
   "metadata": {},
   "outputs": [],
   "source": [
    "arr1 = np.random.randint (20, size = (3,4))\n",
    "print (arr1)\n",
    "arr1.max()"
   ]
  },
  {
   "cell_type": "markdown",
   "metadata": {},
   "source": [
    "3. Write a Python Program for array rotation?"
   ]
  },
  {
   "cell_type": "code",
   "execution_count": null,
   "metadata": {},
   "outputs": [],
   "source": [
    "# length = length of an array\n",
    "# num = number of elements by which you want to rotate the array. \n",
    "\n",
    "def rotate(arr, length, num):\n",
    "    for i in range(num):\n",
    "        place1 = arr[0]\n",
    "        for j in range(length-1):\n",
    "            arr[j] = arr[j+1]\n",
    "        arr[length-1] = place1\n",
    "    print (arr)\n",
    "arr3 = np.random.randint (20, size = 8)\n",
    "print (arr3)\n",
    "rotate (arr3, 8,3 )\n",
    "\n",
    "            \n",
    " "
   ]
  },
  {
   "cell_type": "markdown",
   "metadata": {},
   "source": [
    "4. Write a Python Program to Split the array and add the first part to the end?"
   ]
  },
  {
   "cell_type": "code",
   "execution_count": null,
   "metadata": {},
   "outputs": [],
   "source": [
    "def split_rotate(arr, length, num):\n",
    "    for i in range(num):\n",
    "        place1 = arr[0]\n",
    "        for j in range(length-1):\n",
    "            arr[j] = arr[j+1]\n",
    "        arr[length-1] = place1\n",
    "    print (arr)\n",
    "arr3 = np.random.randint (20, size = 8)\n",
    "print (arr3)\n",
    "rotate (arr3, 8,3 )"
   ]
  },
  {
   "cell_type": "markdown",
   "metadata": {},
   "source": [
    "5. Write a Python Program to check if given array is Monotonic?"
   ]
  },
  {
   "cell_type": "code",
   "execution_count": null,
   "metadata": {},
   "outputs": [],
   "source": [
    "arr4 = np.random.randint (20, size = 8)\n",
    "arr4.sort()\n",
    "print (arr4)\n",
    "def monotonic (arr): \n",
    "    if all (arr[i] <= arr[i+1] for i in range (len(arr)-3)) or (arr[i] >= arr[i+1] for i in range (len(arr)-3)): \n",
    "        print  (\" given array is monotonic \")\n",
    "    else :\n",
    "        print (\" given array is NOT monotonic \")\n",
    "\n",
    "monotonic(arr4)"
   ]
  }
 ],
 "metadata": {
  "interpreter": {
   "hash": "f906f9915368e05740e3b6d1b29327366d6cf36e907e5df6d069f2aad65d0549"
  },
  "kernelspec": {
   "display_name": "Python 3.9.7 64-bit ('environment1': conda)",
   "name": "python3"
  },
  "language_info": {
   "codemirror_mode": {
    "name": "ipython",
    "version": 3
   },
   "file_extension": ".py",
   "mimetype": "text/x-python",
   "name": "python",
   "nbconvert_exporter": "python",
   "pygments_lexer": "ipython3",
   "version": "3.9.7"
  },
  "orig_nbformat": 4
 },
 "nbformat": 4,
 "nbformat_minor": 2
}
