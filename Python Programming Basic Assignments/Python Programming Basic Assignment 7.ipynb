{
 "cells": [
  {
   "cell_type": "markdown",
   "metadata": {},
   "source": [
    "1. Write a Python Program to Add Two Matrices"
   ]
  },
  {
   "cell_type": "code",
   "execution_count": null,
   "metadata": {},
   "outputs": [],
   "source": [
    "import numpy as np\n",
    "matrix1 = np.random.randint (20, size = (4, 3))\n",
    "matrix2 = np.random.randint (20, size = (4, 3))\n",
    "sum = np.add (matrix1, matrix2)\n",
    "print (matrix1, \"\\n\")\n",
    "print (matrix2, \"\\n\")\n",
    "print (sum)"
   ]
  },
  {
   "cell_type": "markdown",
   "metadata": {},
   "source": [
    "2. Write a Python Program to Multiply Two Matrices?"
   ]
  },
  {
   "cell_type": "code",
   "execution_count": null,
   "metadata": {},
   "outputs": [],
   "source": [
    "import numpy as np\n",
    "matrix1 = np.random.randint (5, size = (4, 3))\n",
    "matrix2 = np.random.randint (8, size = (4, 3))\n",
    "multply = np.multiply (matrix1, matrix2)\n",
    "print (matrix1, \"\\n\")\n",
    "print (matrix2, \"\\n\")\n",
    "print (multply)"
   ]
  },
  {
   "cell_type": "markdown",
   "metadata": {},
   "source": [
    "3. Write a Python Program to Transpose a Matrix"
   ]
  },
  {
   "cell_type": "code",
   "execution_count": null,
   "metadata": {},
   "outputs": [],
   "source": [
    "matrix1 = np.random.randint (5, size = (4, 3))\n",
    "print (matrix1)\n",
    "matrix1.transpose ()"
   ]
  },
  {
   "cell_type": "markdown",
   "metadata": {},
   "source": [
    "4. Write a Python Program to Sort Words in Alphabetic Order"
   ]
  },
  {
   "cell_type": "code",
   "execution_count": null,
   "metadata": {},
   "outputs": [],
   "source": [
    "list2 = [\"cake\", \"news\", \"chair\", \"pen\", \"thing\", \"zydus\", \"alpha\"]\n",
    "print (list2)\n",
    "list2.sort ()\n",
    "print (list2)"
   ]
  },
  {
   "cell_type": "markdown",
   "metadata": {},
   "source": [
    "5. Write a Python Program to Remove Punctuation From a String"
   ]
  },
  {
   "cell_type": "code",
   "execution_count": null,
   "metadata": {},
   "outputs": [],
   "source": [
    "list_of_punctuation  = '''!()-[]{};:'\"\\,<>./?@#$%^&*_~'''\n",
    "\n",
    "test_string = \"nice!, he drug ---and follo'?.\"\n",
    "\n",
    "\n",
    "final_string = \"\"\n",
    "for i in test_string:\n",
    "    if not i in list_of_punctuation:\n",
    "        final_string = final_string + i\n",
    "print(final_string)"
   ]
  }
 ],
 "metadata": {
  "interpreter": {
   "hash": "f906f9915368e05740e3b6d1b29327366d6cf36e907e5df6d069f2aad65d0549"
  },
  "kernelspec": {
   "display_name": "Python 3.9.7 64-bit ('environment1': conda)",
   "name": "python3"
  },
  "language_info": {
   "codemirror_mode": {
    "name": "ipython",
    "version": 3
   },
   "file_extension": ".py",
   "mimetype": "text/x-python",
   "name": "python",
   "nbconvert_exporter": "python",
   "pygments_lexer": "ipython3",
   "version": "3.9.7"
  },
  "orig_nbformat": 4
 },
 "nbformat": 4,
 "nbformat_minor": 2
}
