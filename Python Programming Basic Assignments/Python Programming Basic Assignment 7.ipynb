{
 "cells": [
  {
   "cell_type": "markdown",
   "metadata": {},
   "source": [
    "1. Write a Python Program to find sum of array?"
   ]
  },
  {
   "cell_type": "code",
   "execution_count": 2,
   "metadata": {},
   "outputs": [
    {
     "name": "stdout",
     "output_type": "stream",
     "text": [
      "[10 10  8]\n"
     ]
    }
   ],
   "source": [
    "import numpy as np\n",
    "arr1 = np.array ( [1,2,3])\n",
    "arr2 = np.array ( [9,8,5])\n",
    "sum = np.add (arr1, arr2)\n",
    "print (sum)\n"
   ]
  },
  {
   "cell_type": "markdown",
   "metadata": {},
   "source": [
    "2. Write a Python Program to find largest element in an array?"
   ]
  },
  {
   "cell_type": "code",
   "execution_count": 5,
   "metadata": {},
   "outputs": [
    {
     "name": "stdout",
     "output_type": "stream",
     "text": [
      "[[59 16 84 24 34]\n",
      " [95 84 70  0 94]\n",
      " [95 54 12 97 79]]\n",
      "97\n"
     ]
    }
   ],
   "source": [
    "arr3 = np.random.randint (100, size= (3,5))\n",
    "print (arr3)\n",
    "print (arr3.max())"
   ]
  },
  {
   "cell_type": "markdown",
   "metadata": {},
   "source": [
    "3. Write a Python Program for array rotation?"
   ]
  },
  {
   "cell_type": "code",
   "execution_count": 23,
   "metadata": {},
   "outputs": [
    {
     "name": "stdout",
     "output_type": "stream",
     "text": [
      "[4 5 6 7 1 2 3]\n"
     ]
    }
   ],
   "source": [
    "# n is length of an array. \n",
    "# d is the number by which you want to rotate the array\n",
    "def leftRotate(arr, d, n):\n",
    "    for i in range(d):\n",
    "        temp = arr[0]\n",
    "        for j in range(n-1):\n",
    "            arr[j] = arr[j+1]\n",
    "        arr[n-1] = temp\n",
    "    print (arr)\n",
    "\n",
    "arr2 = np.array ( [1,2,3,4,5,6,7 ])\n",
    "leftRotate ( arr2, 3, 7 )"
   ]
  },
  {
   "cell_type": "markdown",
   "metadata": {},
   "source": [
    "4. Write a Python Program to Split the array and add the first part to the end?"
   ]
  },
  {
   "cell_type": "code",
   "execution_count": 26,
   "metadata": {},
   "outputs": [
    {
     "name": "stdout",
     "output_type": "stream",
     "text": [
      "[ 4  5  6  7 15 23  3]\n"
     ]
    }
   ],
   "source": [
    "# n is length of an array. \n",
    "# d is the index number from which you want to split the array\n",
    "def split_rotate(arr, d, n):\n",
    "    for i in range(d):\n",
    "        temp = arr[0]\n",
    "        for j in range(n-1):\n",
    "            arr[j] = arr[j+1]\n",
    "        arr[n-1] = temp\n",
    "    print (arr)\n",
    "\n",
    "arr2 = np.array ( [15,23,3,4,5,6,7])\n",
    "split_rotate (arr2, 3, 7)\n"
   ]
  },
  {
   "cell_type": "markdown",
   "metadata": {},
   "source": [
    "5. Write a Python Program to check if given array is Monotonic?"
   ]
  },
  {
   "cell_type": "code",
   "execution_count": 31,
   "metadata": {},
   "outputs": [
    {
     "name": "stdout",
     "output_type": "stream",
     "text": [
      "the given array is monotonic\n",
      "the given array is monotonic not monotonic\n",
      "the given array is monotonic\n",
      "the given array is monotonic not monotonic\n"
     ]
    }
   ],
   "source": [
    "def check_monotonic (arr): \n",
    "    list1 = []\n",
    "    list2 = [] \n",
    "    for i in range (len (arr)-1): \n",
    "        list1.append (arr[i]<= arr [i+1])\n",
    "        list2.append (arr[i]>= arr [i+1])\n",
    "    if all (list1) or all (list2): \n",
    "        print (\"the given array is monotonic\")\n",
    "    else : \n",
    "        print ( \"the given array is monotonic not monotonic\")\n",
    "arr4= np.array ([1,10,12,13,15,406,1003])\n",
    "arr5= np.array ([1,10,12,13,15,406,1003, 48])\n",
    "arr6= np.array ([100,56,45,41,15,3,2])\n",
    "arr7= np.array ([100,56,45,41,15,3,2 ,48])\n",
    "check_monotonic (arr4)\n",
    "check_monotonic (arr5)\n",
    "check_monotonic (arr6)\n",
    "check_monotonic (arr7)\n",
    "\n",
    "    \n",
    "            "
   ]
  }
 ],
 "metadata": {
  "interpreter": {
   "hash": "f906f9915368e05740e3b6d1b29327366d6cf36e907e5df6d069f2aad65d0549"
  },
  "kernelspec": {
   "display_name": "Python 3.9.7 64-bit ('environment1': conda)",
   "name": "python3"
  },
  "language_info": {
   "codemirror_mode": {
    "name": "ipython",
    "version": 3
   },
   "file_extension": ".py",
   "mimetype": "text/x-python",
   "name": "python",
   "nbconvert_exporter": "python",
   "pygments_lexer": "ipython3",
   "version": "3.9.7"
  },
  "orig_nbformat": 4
 },
 "nbformat": 4,
 "nbformat_minor": 2
}
