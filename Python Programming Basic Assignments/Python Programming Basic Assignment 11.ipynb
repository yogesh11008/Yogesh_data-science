{
 "cells": [
  {
   "cell_type": "markdown",
   "metadata": {},
   "source": [
    "1. Write a Python program to find words which are greater than given length k?"
   ]
  },
  {
   "cell_type": "code",
   "execution_count": null,
   "metadata": {},
   "outputs": [],
   "source": [
    "def wordfind ( string1 , k):  \n",
    "    string2  = string1.split (\" \")\n",
    "    print ([i for i in string2 if len (i)> k ])\n",
    "test_string = \"table, fan, tub, entertainment, hello, marvel, i , sounftrack\"\n",
    "wordfind (test_string, 4)"
   ]
  },
  {
   "cell_type": "markdown",
   "metadata": {},
   "source": [
    "2. Write a Python program for removing i-th character from a string?"
   ]
  },
  {
   "cell_type": "code",
   "execution_count": null,
   "metadata": {},
   "outputs": [],
   "source": [
    "def replace_string (string1, i): \n",
    "    string2 = string1.replace (string1 [i-1], \"\", 1)\n",
    "    print (string2)\n",
    "replace_string (\"entertainment\", 3)"
   ]
  },
  {
   "cell_type": "markdown",
   "metadata": {},
   "source": [
    "3. Write a Python program to split and join a string?"
   ]
  },
  {
   "cell_type": "code",
   "execution_count": null,
   "metadata": {},
   "outputs": [],
   "source": [
    "test_string = \"table, fan, tub, entertainment, hello, marvel, i , sounftrack\"\n",
    "list_of_string = test_string.split (\", \")\n",
    "print (\"-\".join (list_of_string))"
   ]
  },
  {
   "cell_type": "markdown",
   "metadata": {},
   "source": [
    "4. Write a Python to check if a given string is binary string or not?"
   ]
  },
  {
   "cell_type": "code",
   "execution_count": null,
   "metadata": {},
   "outputs": [],
   "source": [
    "def check_binary (string2): \n",
    "    binary = {\"0\",\"1\"}\n",
    "    return   (all (i in binary for i in string2 ))\n",
    "check_binary (\"010101\")"
   ]
  },
  {
   "cell_type": "markdown",
   "metadata": {},
   "source": [
    "5. Write a Python program to find uncommon words from two Strings?"
   ]
  },
  {
   "cell_type": "code",
   "execution_count": null,
   "metadata": {},
   "outputs": [],
   "source": [
    "def uncommon_words (string1, string2): \n",
    "    a= string1.split (\" \")\n",
    "    b= string2.split (\" \")\n",
    "    a.extend (b)\n",
    "    print (set (a))\n",
    "\n",
    "string1 = \"hi hello jivram naman\"\n",
    "string2 = \"hi hello raghav\"\n",
    "uncommon_words (string1, string2 )"
   ]
  },
  {
   "cell_type": "markdown",
   "metadata": {},
   "source": [
    "6. Write a Python to find all duplicate characters in string?"
   ]
  },
  {
   "cell_type": "code",
   "execution_count": null,
   "metadata": {},
   "outputs": [],
   "source": [
    "string3= \"all duplicate character\"\n",
    "duplicate_characters = []\n",
    "for i in string3: \n",
    "    if string3.count(i) > 1: \n",
    "        duplicate_characters.append(i)\n",
    "\n",
    "print (set(duplicate_characters))\n",
    "        "
   ]
  },
  {
   "cell_type": "markdown",
   "metadata": {},
   "source": [
    "7. Write a Python Program to check if a string contains any special character?"
   ]
  },
  {
   "cell_type": "code",
   "execution_count": null,
   "metadata": {},
   "outputs": [],
   "source": [
    "special_characters = [\"[\",\"@\",'_','!','#','$','%','^','&','*',\"(\",\")\",'<','>','?','/','\\\\','|','}','{','~',':',']']\n",
    "string1= \"check if a string * contains #, % any special character?\"\n",
    "for i in string1: \n",
    "    if i in special_characters : \n",
    "        print  ( i , end = \" \")"
   ]
  }
 ],
 "metadata": {
  "interpreter": {
   "hash": "b432d86b4208009344030342d8725eb6f5aebc9446fe0140143dfdec6f51fbc4"
  },
  "kernelspec": {
   "display_name": "Python 3.9.7 64-bit ('environment0': conda)",
   "name": "python3"
  },
  "language_info": {
   "codemirror_mode": {
    "name": "ipython",
    "version": 3
   },
   "file_extension": ".py",
   "mimetype": "text/x-python",
   "name": "python",
   "nbconvert_exporter": "python",
   "pygments_lexer": "ipython3",
   "version": "3.9.7"
  }
 },
 "nbformat": 4,
 "nbformat_minor": 4
}
