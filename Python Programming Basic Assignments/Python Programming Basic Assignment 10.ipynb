{
 "cells": [
  {
   "cell_type": "markdown",
   "metadata": {},
   "source": [
    "1. Write a Python program to find sum of elements in list?"
   ]
  },
  {
   "cell_type": "code",
   "execution_count": 14,
   "metadata": {},
   "outputs": [
    {
     "name": "stdout",
     "output_type": "stream",
     "text": [
      "40\n"
     ]
    }
   ],
   "source": [
    "def sum_list (list): \n",
    "    print (sum(list1))\n",
    "list1= [2,3,5,6,8,8,8]\n",
    "sum_list (list1)"
   ]
  },
  {
   "cell_type": "markdown",
   "metadata": {},
   "source": [
    "2. Write a Python program to Multiply all numbers in the list?"
   ]
  },
  {
   "cell_type": "code",
   "execution_count": 16,
   "metadata": {},
   "outputs": [
    {
     "name": "stdout",
     "output_type": "stream",
     "text": [
      "92160\n"
     ]
    }
   ],
   "source": [
    "def multiply_list (list): \n",
    "    print (np.prod(list))\n",
    "list2= [2,3,5,6,8,8,8]\n",
    "multiply_list (list2)"
   ]
  },
  {
   "cell_type": "markdown",
   "metadata": {},
   "source": [
    "3. Write a Python program to find smallest number in a list?"
   ]
  },
  {
   "cell_type": "code",
   "execution_count": 21,
   "metadata": {},
   "outputs": [
    {
     "name": "stdout",
     "output_type": "stream",
     "text": [
      "2\n"
     ]
    }
   ],
   "source": [
    "def min_list (list): \n",
    "    print (min(list))\n",
    "list3= [2,3,5,6,8,8,8,25,36,98,889]\n",
    "min_list (list3)"
   ]
  },
  {
   "cell_type": "markdown",
   "metadata": {},
   "source": [
    "4. Write a Python program to find largest number in a list?"
   ]
  },
  {
   "cell_type": "code",
   "execution_count": 23,
   "metadata": {},
   "outputs": [
    {
     "name": "stdout",
     "output_type": "stream",
     "text": [
      "889\n"
     ]
    }
   ],
   "source": [
    "def max_list (list): \n",
    "    print (max(list))\n",
    "list4= [2,3,5,6,8,8,8,25,36,98,889]\n",
    "max_list (list4)"
   ]
  },
  {
   "cell_type": "markdown",
   "metadata": {},
   "source": [
    "5. Write a Python program to find second largest number in a list?"
   ]
  },
  {
   "cell_type": "code",
   "execution_count": 30,
   "metadata": {},
   "outputs": [
    {
     "name": "stdout",
     "output_type": "stream",
     "text": [
      "889\n"
     ]
    }
   ],
   "source": [
    "def second_max_list (list): \n",
    "    list.sort ()\n",
    "    print (list[-2])\n",
    "list5= [2,3,5,6,8,8,8,25,36,98,889,10020,  1, 2]\n",
    "second_max_list (list5)\n"
   ]
  },
  {
   "cell_type": "markdown",
   "metadata": {},
   "source": [
    "6. Write a Python program to find N largest elements from a list?"
   ]
  },
  {
   "cell_type": "code",
   "execution_count": 31,
   "metadata": {},
   "outputs": [
    {
     "name": "stdout",
     "output_type": "stream",
     "text": [
      "56\n"
     ]
    }
   ],
   "source": [
    "def Nlargest (list, n): \n",
    "    list.sort()\n",
    "    print (list[-n])\n",
    "list3 = [5,8,9,8,9,56,48,98,69,55,5,6,4,7,8,9,5,655]\n",
    "Nlargest ( list3, 4)"
   ]
  },
  {
   "cell_type": "markdown",
   "metadata": {},
   "source": [
    "7. Write a Python program to print even numbers in a list?"
   ]
  },
  {
   "cell_type": "code",
   "execution_count": 32,
   "metadata": {},
   "outputs": [
    {
     "name": "stdout",
     "output_type": "stream",
     "text": [
      "[8, 8, 56, 48, 98, 6, 4, 8]\n"
     ]
    }
   ],
   "source": [
    "def even (list): \n",
    "    even_list = [i for i in list if i %2==0]\n",
    "    print (even_list)\n",
    "list4 = [5,8,9,8,9,56,48,98,69,55,5,6,4,7,8,9,5,655]\n",
    "even (list4)"
   ]
  },
  {
   "cell_type": "markdown",
   "metadata": {},
   "source": [
    "8. Write a Python program to print odd numbers in a List?"
   ]
  },
  {
   "cell_type": "code",
   "execution_count": 33,
   "metadata": {},
   "outputs": [
    {
     "name": "stdout",
     "output_type": "stream",
     "text": [
      "[5, 9, 9, 69, 55, 5, 7, 9, 5, 655]\n"
     ]
    }
   ],
   "source": [
    "def odd (list): \n",
    "    odd_list = [i for i in list if i %2!=0]\n",
    "    print (odd_list)\n",
    "list4 = [5,8,9,8,9,56,48,98,69,55,5,6,4,7,8,9,5,655]\n",
    "odd (list4)"
   ]
  },
  {
   "cell_type": "markdown",
   "metadata": {},
   "source": [
    "9. Write a Python program to Remove empty List from List?"
   ]
  },
  {
   "cell_type": "code",
   "execution_count": 34,
   "metadata": {},
   "outputs": [
    {
     "name": "stdout",
     "output_type": "stream",
     "text": [
      "[5, 8, 9, 8, 9, 56, 48, 98, 69, 55, 5, 6, 4, 7, 8, 9, 5, 655]\n"
     ]
    }
   ],
   "source": [
    "def remove_empty_list (list): \n",
    "    new_list = [i for i in list if i != []]\n",
    "    print (new_list)\n",
    "    \n",
    "list6 = [5,8,9,8,9,56,48, [], [],98,69,55,[],5,6,4,7,8,9,[], 5,655]\n",
    "remove_empty_list (list6)\n"
   ]
  },
  {
   "cell_type": "markdown",
   "metadata": {},
   "source": [
    "10. Write a Python program to Cloning or Copying a list?"
   ]
  },
  {
   "cell_type": "code",
   "execution_count": 42,
   "metadata": {},
   "outputs": [
    {
     "name": "stdout",
     "output_type": "stream",
     "text": [
      "[5, 8, 9, 8, 9, 56, 48, [], [], 98, 69, 55, [], 5, 6, 4, 7, 8, 9, [], 5, 655]\n"
     ]
    }
   ],
   "source": [
    "def copy_list (old_list ): \n",
    "    return list (old_list)\n",
    "    \n",
    "\n",
    "# copying list7 into list8    \n",
    "list7 = [5,8,9,8,9,56,48, [], [],98,69,55,[],5,6,4,7,8,9,[], 5,655]\n",
    "list8 = copy_list (list7)\n",
    "\n",
    "#checking if it is copied or not \n",
    "print (list8)\n"
   ]
  },
  {
   "cell_type": "markdown",
   "metadata": {},
   "source": [
    "11. Write a Python program to Count occurrences of an element in a list?"
   ]
  },
  {
   "cell_type": "code",
   "execution_count": 47,
   "metadata": {},
   "outputs": [
    {
     "name": "stdout",
     "output_type": "stream",
     "text": [
      "2\n"
     ]
    }
   ],
   "source": [
    "def count_element (list, element): \n",
    "    count = 0\n",
    "    for i in list : \n",
    "        if i==element: \n",
    "            count += 1\n",
    "    print (count)\n",
    "\n",
    "\n",
    "list9 = [5,8,9,8,9,56,\"vish\" , 48, [], [],98, \"rahul\" , 69,55,[],5,6, \"vish\" , 4,7,8,9,[], 5,655]\n",
    "element = 'vish'\n",
    "count_element (list9, element) "
   ]
  },
  {
   "cell_type": "code",
   "execution_count": null,
   "metadata": {},
   "outputs": [],
   "source": []
  }
 ],
 "metadata": {
  "interpreter": {
   "hash": "b432d86b4208009344030342d8725eb6f5aebc9446fe0140143dfdec6f51fbc4"
  },
  "kernelspec": {
   "display_name": "Python 3",
   "language": "python",
   "name": "python3"
  },
  "language_info": {
   "codemirror_mode": {
    "name": "ipython",
    "version": 3
   },
   "file_extension": ".py",
   "mimetype": "text/x-python",
   "name": "python",
   "nbconvert_exporter": "python",
   "pygments_lexer": "ipython3",
   "version": "3.8.5"
  }
 },
 "nbformat": 4,
 "nbformat_minor": 4
}
