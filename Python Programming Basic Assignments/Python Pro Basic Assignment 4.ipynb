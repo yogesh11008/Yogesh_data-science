{
 "cells": [
  {
   "cell_type": "markdown",
   "metadata": {},
   "source": [
    "### 1. Write a Python Program to Find the Factorial of a Number?"
   ]
  },
  {
   "cell_type": "code",
   "execution_count": 8,
   "metadata": {},
   "outputs": [
    {
     "data": {
      "text/plain": [
       "720"
      ]
     },
     "execution_count": 8,
     "metadata": {},
     "output_type": "execute_result"
    }
   ],
   "source": [
    "def factorial(n):\n",
    "    if n == 1: \n",
    "        return n\n",
    "    elif n<0: \n",
    "        print (\"factorial value is not defined for negative number\")\n",
    "    elif type(n)==float: \n",
    "        print (\"factorial value is not defined for floating point number\")\n",
    "    else:\n",
    "        return n*factorial(n-1)\n",
    "factorial (6)"
   ]
  },
  {
   "cell_type": "markdown",
   "metadata": {},
   "source": [
    "### 2. Write a Python Program to Display the multiplication Table?"
   ]
  },
  {
   "cell_type": "code",
   "execution_count": 9,
   "metadata": {},
   "outputs": [
    {
     "name": "stdout",
     "output_type": "stream",
     "text": [
      "41  x =  41\n",
      "41  x =  82\n",
      "41  x =  123\n",
      "41  x =  164\n",
      "41  x =  205\n",
      "41  x =  246\n",
      "41  x =  287\n",
      "41  x =  328\n",
      "41  x =  369\n",
      "41  x =  410\n"
     ]
    }
   ],
   "source": [
    "def multiplicationTable(num): \n",
    "    for i in range (1, 11): \n",
    "        print (num, \" x = \", num*i   )\n",
    "\n",
    "multiplicationTable (41)"
   ]
  },
  {
   "cell_type": "markdown",
   "metadata": {},
   "source": [
    "### 3. Write a Python Program to Print the Fibonacci sequence?"
   ]
  },
  {
   "cell_type": "code",
   "execution_count": 30,
   "metadata": {},
   "outputs": [
    {
     "name": "stdout",
     "output_type": "stream",
     "text": [
      "0\n",
      "1\n",
      "1\n",
      "2\n",
      "3\n",
      "5\n",
      "8\n"
     ]
    }
   ],
   "source": [
    "def fibo_number (num): \n",
    "    a=0\n",
    "    b=1\n",
    "    for i in range (7):\n",
    "        print (a)\n",
    "        c = a + b\n",
    "        a = b\n",
    "        b = c   \n",
    "\n",
    "(fibo_number(10))"
   ]
  },
  {
   "cell_type": "markdown",
   "metadata": {},
   "source": [
    "### 4. Write a Python Program to Check Armstrong Number?"
   ]
  },
  {
   "cell_type": "code",
   "execution_count": 44,
   "metadata": {},
   "outputs": [
    {
     "ename": "SyntaxError",
     "evalue": "invalid syntax (<ipython-input-44-09f15b705d81>, line 8)",
     "output_type": "error",
     "traceback": [
      "\u001b[1;36m  File \u001b[1;32m\"<ipython-input-44-09f15b705d81>\"\u001b[1;36m, line \u001b[1;32m8\u001b[0m\n\u001b[1;33m    if total == num :\u001b[0m\n\u001b[1;37m                    ^\u001b[0m\n\u001b[1;31mSyntaxError\u001b[0m\u001b[1;31m:\u001b[0m invalid syntax\n"
     ]
    }
   ],
   "source": []
  },
  {
   "cell_type": "markdown",
   "metadata": {},
   "source": [
    "### 5. Write a Python Program to Find Armstrong Number in an Interval?"
   ]
  },
  {
   "cell_type": "code",
   "execution_count": 58,
   "metadata": {},
   "outputs": [
    {
     "name": "stdout",
     "output_type": "stream",
     "text": [
      "150 is NOT an armstrong number \n"
     ]
    }
   ],
   "source": [
    "def armstrong_number (num): \n",
    "    total = 0\n",
    "    a = 0\n",
    "    for i in range (3) : \n",
    "        total += int (str(num)[a]) **3\n",
    "        a += 1\n",
    "    if total == num : \n",
    "        print (f\"{num} is an armstrong number \" )\n",
    "    else : \n",
    "        print  (f\"{num} is NOT an armstrong number \" )\n",
    "\n",
    "armstrong_number (150)"
   ]
  },
  {
   "cell_type": "markdown",
   "metadata": {},
   "source": [
    "### 6. Write a Python Program to Find the Sum of Natural Numbers?"
   ]
  },
  {
   "cell_type": "code",
   "execution_count": 65,
   "metadata": {},
   "outputs": [
    {
     "data": {
      "text/plain": [
       "120"
      ]
     },
     "execution_count": 65,
     "metadata": {},
     "output_type": "execute_result"
    }
   ],
   "source": [
    "def sum_natural_numbers (num): \n",
    "    if num <=0 : \n",
    "        print ( f\"{num} is not a natural number \")\n",
    "    elif num == 1 :\n",
    "        return 1 \n",
    "    else : \n",
    "        return num + sum_natural_numbers (num-1)\n",
    "\n",
    "sum_natural_numbers (15)"
   ]
  }
 ],
 "metadata": {
  "interpreter": {
   "hash": "828ddc2b095366e10a5e14610db9d1e4443f9768ebaec0a84f8592e200c8085d"
  },
  "kernelspec": {
   "display_name": "Python 3.8.8 64-bit ('base': conda)",
   "name": "python3"
  },
  "language_info": {
   "codemirror_mode": {
    "name": "ipython",
    "version": 3
   },
   "file_extension": ".py",
   "mimetype": "text/x-python",
   "name": "python",
   "nbconvert_exporter": "python",
   "pygments_lexer": "ipython3",
   "version": "3.8.8"
  }
 },
 "nbformat": 4,
 "nbformat_minor": 4
}
