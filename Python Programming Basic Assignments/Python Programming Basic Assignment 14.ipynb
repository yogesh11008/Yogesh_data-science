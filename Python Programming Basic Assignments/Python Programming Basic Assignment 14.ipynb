{
 "cells": [
  {
   "cell_type": "code",
   "execution_count": null,
   "metadata": {},
   "outputs": [],
   "source": [
    "Question 1:\n",
    "Define a class with a generator which can iterate the numbers, which are divisible by\n",
    "7, between a given range 0 and n."
   ]
  },
  {
   "cell_type": "code",
   "execution_count": null,
   "metadata": {},
   "outputs": [],
   "source": [
    "class Generator : \n",
    "    def seven (n): \n",
    "        for i in range (1 , n+1): \n",
    "            if i % 7 == 0 : \n",
    "                yield i\n",
    "\n",
    "for i in Generator.seven ( 100): \n",
    "    print (i, end = \" \")"
   ]
  },
  {
   "cell_type": "markdown",
   "metadata": {},
   "source": [
    "Question 2:\n",
    "Write a program to compute the frequency of the words from the input. The output\n",
    "should output after sorting the key alphanumerically.\n",
    "Suppose the following input is supplied to the program:\n",
    "Python or choosing between Python 2 and Python 3? Read Python 2 or\n",
    "Python to on 3.\n",
    "Then, the output should be:\n",
    "2:2\n",
    "3.:1\n",
    "3?:1\n",
    "New:1\n",
    "Python:5\n",
    "Read:1\n",
    "and:1\n",
    "between:1\n",
    "choosing:1\n",
    "or:2\n",
    "to:1\n"
   ]
  },
  {
   "cell_type": "code",
   "execution_count": null,
   "metadata": {},
   "outputs": [],
   "source": [
    "string1= input (\"enter a string \")\n",
    "string2 = string1.split (\" \")\n",
    "list1 = sorted (list (set (string2)))\n",
    "\n",
    "for i in list1 : \n",
    "    print (i, \":\", string2.count(i))\n"
   ]
  },
  {
   "cell_type": "code",
   "execution_count": null,
   "metadata": {},
   "outputs": [],
   "source": [
    "\n",
    "Question 3:\n",
    "\n",
    "Define a class Person and its two child classes: Male and Female. All classes have a\n",
    "method \"getGender\" which can print \"Male\" for Male class and \"Female\" for Female\n",
    "class."
   ]
  },
  {
   "cell_type": "code",
   "execution_count": null,
   "metadata": {},
   "outputs": [],
   "source": [
    "class person: \n",
    "    pass\n",
    "class male (person): \n",
    "    def getGender (): \n",
    "        print (\"male\") \n",
    "class female (person): \n",
    "    def getGender (): \n",
    "        print (\"female\")\n",
    "\n",
    "female.getGender()\n",
    "male.getGender()"
   ]
  },
  {
   "cell_type": "code",
   "execution_count": null,
   "metadata": {},
   "outputs": [],
   "source": [
    "Question 4:\n",
    "Please write a program to generate all sentences where subject is in ['I', 'You'] and\n",
    "verb is in ['Play', 'Love'] and the object is in ['Hockey','Football']."
   ]
  },
  {
   "cell_type": "code",
   "execution_count": null,
   "metadata": {},
   "outputs": [],
   "source": [
    "subject = ['I', 'You']\n",
    "verb = ['Play', 'Love']\n",
    "object = ['Hockey','Football']\n",
    "\n",
    "for i in subject: \n",
    "    for j in verb: \n",
    "        for p in object: \n",
    "            print (i, j, p)"
   ]
  },
  {
   "cell_type": "code",
   "execution_count": null,
   "metadata": {},
   "outputs": [],
   "source": [
    "Question 5:\n",
    "Please write a program to compress and decompress the string 'hello world!hello\n",
    "world!hello world!hello world!'."
   ]
  },
  {
   "cell_type": "code",
   "execution_count": null,
   "metadata": {},
   "outputs": [],
   "source": [
    "import zlib \n",
    "string4 = 'hello world!hello world!hello world!hello world!'\n",
    "string5 = bytes (string4, \"utf-8\")\n",
    "compressed_string = zlib.compress (string5)\n",
    "print (compressed_string)\n",
    "decompressed_string = zlib.decompress (compressed_string)\n",
    "print (decompressed_string)\n"
   ]
  },
  {
   "cell_type": "code",
   "execution_count": null,
   "metadata": {},
   "outputs": [],
   "source": [
    "Question 6:\n",
    "Please write a binary search function which searches an item in a sorted list. The\n",
    "function should return the index of element to be searched in the list."
   ]
  },
  {
   "cell_type": "code",
   "execution_count": 5,
   "metadata": {},
   "outputs": [
    {
     "name": "stdout",
     "output_type": "stream",
     "text": [
      "53 is not present in the list\n"
     ]
    }
   ],
   "source": [
    "def list_index (list, element) : \n",
    "    try : \n",
    "        print (list.index (element))\n",
    "    except ValueError : \n",
    "        print (f\"{element} is not present in the list\")\n",
    "    \n",
    "list1= [2,3,4,12,14,18,45,54,65,78,89,99,123]\n",
    "list_index(list1, 53)"
   ]
  }
 ],
 "metadata": {
  "interpreter": {
   "hash": "b432d86b4208009344030342d8725eb6f5aebc9446fe0140143dfdec6f51fbc4"
  },
  "kernelspec": {
   "display_name": "Python 3.9.7 64-bit ('environment0': conda)",
   "name": "python3"
  },
  "language_info": {
   "codemirror_mode": {
    "name": "ipython",
    "version": 3
   },
   "file_extension": ".py",
   "mimetype": "text/x-python",
   "name": "python",
   "nbconvert_exporter": "python",
   "pygments_lexer": "ipython3",
   "version": "3.9.7"
  }
 },
 "nbformat": 4,
 "nbformat_minor": 4
}
