{
 "cells": [
  {
   "cell_type": "markdown",
   "metadata": {},
   "source": [
    "1. Write a Python program to check if the given number is a Disarium Number?"
   ]
  },
  {
   "cell_type": "code",
   "execution_count": null,
   "metadata": {},
   "outputs": [],
   "source": [
    "def isDisarium (num) : \n",
    "    import math\n",
    "    num2 = str (num)\n",
    "    length = len (str(num))\n",
    "    sum = 0 \n",
    "    while length != 0 : \n",
    "        sum = sum + math.pow (int(num2[length-1]), length)\n",
    "        length -= 1 \n",
    "    if sum == num : \n",
    "        return True\n",
    "    else : \n",
    "        return False\n",
    "\n",
    "isDisarium (89)"
   ]
  },
  {
   "cell_type": "markdown",
   "metadata": {},
   "source": [
    "2. Write a Python program to print all disarium numbers between 1 to 100?\n"
   ]
  },
  {
   "cell_type": "code",
   "execution_count": null,
   "metadata": {},
   "outputs": [],
   "source": [
    "for i in range (1, 101): \n",
    "    if isDisarium (i): \n",
    "        print (i, end = \" \")\n"
   ]
  },
  {
   "cell_type": "markdown",
   "metadata": {},
   "source": [
    "3. Write a Python program to check if the given number is Happy Number?"
   ]
  },
  {
   "cell_type": "code",
   "execution_count": 14,
   "metadata": {},
   "outputs": [],
   "source": [
    "def isHappyNumber (num): \n",
    "    def HappyNumber (sum) : \n",
    "        num2= str (sum)\n",
    "        sum = 0\n",
    "        for i in num2 : \n",
    "            sum = sum + int(i)**2\n",
    "        while sum !=1 and sum != 4 : \n",
    "            sum = HappyNumber (sum)\n",
    "        return sum\n",
    "    if HappyNumber (num) ==1 : \n",
    "        return True \n",
    "    elif HappyNumber (num)== 4: \n",
    "        return False "
   ]
  },
  {
   "cell_type": "code",
   "execution_count": 15,
   "metadata": {},
   "outputs": [
    {
     "data": {
      "text/plain": [
       "True"
      ]
     },
     "execution_count": 15,
     "metadata": {},
     "output_type": "execute_result"
    }
   ],
   "source": [
    "isHappyNumber(82)"
   ]
  },
  {
   "cell_type": "markdown",
   "metadata": {},
   "source": [
    "4. Write a Python program to print all happy numbers between 1 and 100?\n"
   ]
  },
  {
   "cell_type": "code",
   "execution_count": 16,
   "metadata": {},
   "outputs": [
    {
     "name": "stdout",
     "output_type": "stream",
     "text": [
      "1 7 10 13 19 23 28 31 32 44 49 68 70 79 82 86 91 94 97 100 "
     ]
    }
   ],
   "source": [
    "for i in range (1, 101): \n",
    "    if isHappyNumber (i): \n",
    "        print (i, end = \" \")\n"
   ]
  },
  {
   "cell_type": "markdown",
   "metadata": {},
   "source": [
    "5. Write a Python program to determine whether the given number is a Harshad Number?\n"
   ]
  },
  {
   "cell_type": "code",
   "execution_count": 17,
   "metadata": {},
   "outputs": [
    {
     "data": {
      "text/plain": [
       "True"
      ]
     },
     "execution_count": 17,
     "metadata": {},
     "output_type": "execute_result"
    }
   ],
   "source": [
    "def isHarshad (num): \n",
    "    sum = 0\n",
    "    for i in range (len(str(num))): \n",
    "        sum = sum + int (str(num)[i])\n",
    "    if num % sum == 0 : \n",
    "        return True\n",
    "    else : \n",
    "        return False \n",
    "isHarshad (18)"
   ]
  },
  {
   "cell_type": "markdown",
   "metadata": {},
   "source": [
    "6. Write a Python program to print all pronic numbers between 1 and 100?"
   ]
  },
  {
   "cell_type": "code",
   "execution_count": 38,
   "metadata": {},
   "outputs": [
    {
     "name": "stdout",
     "output_type": "stream",
     "text": [
      "2 6 12 20 30 42 56 72 90 "
     ]
    }
   ],
   "source": [
    "def isPronic (num): \n",
    "    for i in range (num): \n",
    "        if i * (i+1) == num : \n",
    "            return True \n",
    "for i in range (101): \n",
    "    if isPronic (i): \n",
    "        print (i, end = \" \")"
   ]
  },
  {
   "cell_type": "markdown",
   "metadata": {},
   "source": []
  }
 ],
 "metadata": {
  "interpreter": {
   "hash": "f906f9915368e05740e3b6d1b29327366d6cf36e907e5df6d069f2aad65d0549"
  },
  "kernelspec": {
   "display_name": "Python 3.9.7 64-bit ('environment1': conda)",
   "name": "python3"
  },
  "language_info": {
   "codemirror_mode": {
    "name": "ipython",
    "version": 3
   },
   "file_extension": ".py",
   "mimetype": "text/x-python",
   "name": "python",
   "nbconvert_exporter": "python",
   "pygments_lexer": "ipython3",
   "version": "3.9.7"
  },
  "orig_nbformat": 4
 },
 "nbformat": 4,
 "nbformat_minor": 2
}
