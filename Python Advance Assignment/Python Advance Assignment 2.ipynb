{
 "cells": [
  {
   "cell_type": "markdown",
   "metadata": {},
   "source": [
    "Q1. What is the relationship between classes and modules"
   ]
  },
  {
   "cell_type": "markdown",
   "metadata": {},
   "source": [
    "Modules are collections of methods and constants. They cannot generate instances. \n",
    "Classes may generate instances (objects), and have instance variables.\n",
    "A class may inherit from another class, but not from a module.\n",
    "A module may not inherit from anything."
   ]
  },
  {
   "cell_type": "markdown",
   "metadata": {},
   "source": [
    "Q2. How do you make instances and classes?"
   ]
  },
  {
   "cell_type": "code",
   "execution_count": 4,
   "metadata": {},
   "outputs": [],
   "source": [
    "#class is created in the following way. \n",
    "# defining a class named automobile\n",
    "class automobile :\n",
    "    def __init__(self, speed, average, price): \n",
    "        self.speed = speed \n",
    "        self.average = average \n",
    "        self.price = price "
   ]
  },
  {
   "cell_type": "code",
   "execution_count": 5,
   "metadata": {},
   "outputs": [
    {
     "name": "stdout",
     "output_type": "stream",
     "text": [
      "5.2\n",
      "20\n",
      "120\n"
     ]
    }
   ],
   "source": [
    "# creating an instance of above class: \n",
    "car = automobile (120, 20, 5.2)\n",
    "\n",
    "print (car.price) \n",
    "print (car.average)\n",
    "print (car.speed)"
   ]
  },
  {
   "cell_type": "markdown",
   "metadata": {},
   "source": [
    "Q3. Where and how should be class attributes created?"
   ]
  },
  {
   "cell_type": "code",
   "execution_count": 6,
   "metadata": {},
   "outputs": [],
   "source": [
    "#Class attributes are the variables defined directly in the class \n",
    "# that are shared by all objects of the class.\n",
    "#example : \n",
    "class Student:\n",
    "    count = 0\n",
    "    def __init__(self):\n",
    "        Student.count += 1    \n",
    "# here  \" count \" is a class attribute which increases by one as new object is created. "
   ]
  },
  {
   "cell_type": "markdown",
   "metadata": {},
   "source": [
    "Q4. Where and how are instance attributes created?"
   ]
  },
  {
   "cell_type": "code",
   "execution_count": 7,
   "metadata": {},
   "outputs": [
    {
     "name": "stdout",
     "output_type": "stream",
     "text": [
      "5.2\n",
      "20\n",
      "120\n"
     ]
    }
   ],
   "source": [
    "# Instance attributes are specific for each instance of a class (object). \n",
    "# it can be created using constructor while creating an object. \n",
    "# example : \n",
    "class automobile :\n",
    "    def __init__(self, speed, average, price): \n",
    "        self.speed = speed \n",
    "        self.average = average \n",
    "        self.price = price \n",
    "\n",
    "car = automobile (120, 20, 5.2)\n",
    "print (car.price) \n",
    "print (car.average)\n",
    "print (car.speed)\n",
    " # here attributes price, average and speed is created while creating car object. "
   ]
  },
  {
   "cell_type": "markdown",
   "metadata": {},
   "source": [
    "Q5. What does the term \"self\" in a Python class mean?3"
   ]
  },
  {
   "cell_type": "markdown",
   "metadata": {},
   "source": [
    "The self argument in Python refers to the object itself."
   ]
  },
  {
   "cell_type": "markdown",
   "metadata": {},
   "source": [
    "Q6. How does a Python class handle operator overloading?"
   ]
  },
  {
   "cell_type": "code",
   "execution_count": 8,
   "metadata": {},
   "outputs": [
    {
     "name": "stdout",
     "output_type": "stream",
     "text": [
      "3\n",
      "GeeksFor\n"
     ]
    }
   ],
   "source": [
    "\"\"\"To perform operator overloading, Python provides some special function \n",
    "that is automatically invoked when it is associated with that particular operator.\"\"\"\n",
    "\n",
    "# overloading of + operator is shown below. \n",
    "\n",
    "class A:\n",
    "    def __init__(self, a):\n",
    "        self.a = a\n",
    " \n",
    "    # adding two objects\n",
    "    def __add__(self, o):\n",
    "        return self.a + o.a\n",
    "ob1 = A(1)\n",
    "ob2 = A(2)\n",
    "ob3 = A(\"Geeks\")\n",
    "ob4 = A(\"For\")\n",
    " \n",
    "print(ob1 + ob2)\n",
    "print(ob3 + ob4)"
   ]
  },
  {
   "cell_type": "markdown",
   "metadata": {},
   "source": [
    "Q7. When do you consider allowing operator overloading of your classes?"
   ]
  },
  {
   "cell_type": "markdown",
   "metadata": {},
   "source": [
    "Operator overloading occurs only when specific operator is used and a specific method \n",
    "is defined in the class itself. We can overload all existing operators\n",
    "but we can’t create a new operator."
   ]
  },
  {
   "cell_type": "markdown",
   "metadata": {},
   "source": [
    "Q8. What is the most popular form of operator overloading?"
   ]
  },
  {
   "cell_type": "markdown",
   "metadata": {},
   "source": [
    "most popular form of operator overloading is use of + operator with string. \n",
    "usually + operator is used for summation. but when it is used with string it \n",
    "concatenates two strings. it is because operator overloading in str class of python. "
   ]
  },
  {
   "cell_type": "markdown",
   "metadata": {},
   "source": [
    "Q9. What are the two most important concepts to grasp in order to comprehend Python OOP code?"
   ]
  },
  {
   "cell_type": "markdown",
   "metadata": {},
   "source": [
    "Inheritance and Polymorphism are the two most important concepts to grasp in order to comprehend Python OOP code"
   ]
  }
 ],
 "metadata": {
  "interpreter": {
   "hash": "f906f9915368e05740e3b6d1b29327366d6cf36e907e5df6d069f2aad65d0549"
  },
  "kernelspec": {
   "display_name": "Python 3.9.7 64-bit ('environment1': conda)",
   "language": "python",
   "name": "python3"
  },
  "language_info": {
   "codemirror_mode": {
    "name": "ipython",
    "version": 3
   },
   "file_extension": ".py",
   "mimetype": "text/x-python",
   "name": "python",
   "nbconvert_exporter": "python",
   "pygments_lexer": "ipython3",
   "version": "3.9.7"
  },
  "orig_nbformat": 4
 },
 "nbformat": 4,
 "nbformat_minor": 2
}
