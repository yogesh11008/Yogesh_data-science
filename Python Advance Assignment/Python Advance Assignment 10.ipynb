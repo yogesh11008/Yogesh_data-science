{
 "cells": [
  {
   "cell_type": "markdown",
   "metadata": {},
   "source": [
    "Q1. What is the difference between __getattr__ and __getattribute__?"
   ]
  },
  {
   "cell_type": "markdown",
   "metadata": {},
   "source": [
    "These two methods are implemented as methods of a class. __getattribute__ is always called. \n",
    "Essentially this method is used to find an attribute of a class. \n",
    "If it fails, it will raise an AttributeError. In case it fails, and class \n",
    "implements __getattr__, then __getattr__ is called right after. \n",
    "Therefore, the biggest difference is that __getattr__ is called for attributes \n",
    "that don’t actually exist on a class."
   ]
  },
  {
   "cell_type": "markdown",
   "metadata": {},
   "source": [
    "Q2. What is the difference between properties and descriptors?"
   ]
  },
  {
   "cell_type": "markdown",
   "metadata": {},
   "source": [
    "Properties serve a specific role, while descriptors are more general. Properties define\n",
    "get, set, and delete functions for a specific attribute; descriptors provide a class\n",
    "with methods for these actions, too, but they provide extra flexibility to support\n",
    "more arbitrary actions.\n",
    "a property is created with a built-in function, and a descriptor is coded with\n",
    "a class. "
   ]
  },
  {
   "cell_type": "markdown",
   "metadata": {},
   "source": [
    "Q3. What are the key differences in functionality between __getattr__ and __getattribute__, as well as properties and descriptors?\n"
   ]
  },
  {
   "cell_type": "markdown",
   "metadata": {},
   "source": [
    "The __getattr__ and __getattribute__ methods are more generic: they can be used\n",
    "to catch arbitrarily many attributes. In contrast, each property or descriptor provides\n",
    "access interception for only one specific attribute.\n",
    "\n",
    "The implementation is also different: __getattr__ and __getattribute__ are operator overloading methods, whereas properties and descriptors are objects manually assigned to class attributes."
   ]
  }
 ],
 "metadata": {
  "interpreter": {
   "hash": "f906f9915368e05740e3b6d1b29327366d6cf36e907e5df6d069f2aad65d0549"
  },
  "kernelspec": {
   "display_name": "Python 3.9.7 64-bit ('environment1': conda)",
   "language": "python",
   "name": "python3"
  },
  "language_info": {
   "codemirror_mode": {
    "name": "ipython",
    "version": 3
   },
   "file_extension": ".py",
   "mimetype": "text/x-python",
   "name": "python",
   "nbconvert_exporter": "python",
   "pygments_lexer": "ipython3",
   "version": "3.9.7"
  },
  "orig_nbformat": 4
 },
 "nbformat": 4,
 "nbformat_minor": 2
}
