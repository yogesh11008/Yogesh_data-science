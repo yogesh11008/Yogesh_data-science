{
 "cells": [
  {
   "cell_type": "markdown",
   "metadata": {},
   "source": [
    "Q1. What are the benefits of the built-in array package, if any?"
   ]
  },
  {
   "cell_type": "markdown",
   "metadata": {},
   "source": [
    "provides a foundation for how numpy works.  One advantage of this\n",
    "package is that it doesn’t need to be downloaded. \n",
    "other advantages to using the array package is that if\n",
    "you interact with other processes or C-language libraries, they\n",
    "may require that you pass data in a contiguous block of\n",
    "memory, which is how the arrays are stored."
   ]
  },
  {
   "cell_type": "markdown",
   "metadata": {},
   "source": [
    "Q2. What are some of the array package's limitations?"
   ]
  },
  {
   "cell_type": "markdown",
   "metadata": {},
   "source": [
    "This package supports one-dimensional arrays only.\n",
    "in array packages, all the elements of the array need to be the same type. \n",
    "for example int, float, etc."
   ]
  },
  {
   "cell_type": "markdown",
   "metadata": {},
   "source": [
    "Q3. Describe the main differences between the array and numpy packages."
   ]
  },
  {
   "cell_type": "markdown",
   "metadata": {},
   "source": [
    "array package supports only one dimentional arrays. while numpy supports multidimentional\n",
    "arrays. array package provides base for the numpy while numpy provides much more \n",
    "functionalities than arrays. "
   ]
  },
  {
   "cell_type": "markdown",
   "metadata": {},
   "source": [
    "Q4. Explainthe distinctions between the empty, ones, and zeros functions."
   ]
  },
  {
   "cell_type": "markdown",
   "metadata": {},
   "source": [
    "The empty function generates an uninitialized numpy array. If\n",
    "you want to produce an array in which the initial values are not\n",
    "initialized but rather are set later\n",
    "\n",
    "The ones function creates an array initialized to all 1 values.\n",
    "Depending on the data type of the array, each member will be\n",
    "initialized to either 1, an integer, 1.0, or the Boolean value True.\n",
    "\n",
    "The zeros function creates an array initialized to all-0 values.\n",
    "Depending on the data type of the array, each member will be\n",
    "initialized to either 0, an integer, 0.0, or the Boolean value\n",
    "False."
   ]
  },
  {
   "cell_type": "markdown",
   "metadata": {},
   "source": [
    "Q5. In the fromfunction function, which is used to construct new arrays, \n",
    "what is the role of the callable argument?"
   ]
  },
  {
   "cell_type": "markdown",
   "metadata": {},
   "source": [
    "in fromfunction, three arguments are required. \n",
    "a function (callable argument), a tuple and dtype. \n",
    "callable argument provides the base on which the array elements are decided. \n",
    "it is the function which takes the index value as argument and generates elements \n",
    "for the array. "
   ]
  },
  {
   "cell_type": "markdown",
   "metadata": {},
   "source": [
    "Q6. What happens when a numpy array is combined with a single-value operand\n",
    " (a scalar, such as an int or a floating-point value) through addition, \n",
    " as in the expression A + n?"
   ]
  },
  {
   "cell_type": "markdown",
   "metadata": {},
   "source": [
    "the value n is added in each element of array A. "
   ]
  },
  {
   "cell_type": "markdown",
   "metadata": {},
   "source": [
    "Q7. Can array-to-scalar operations use combined operation-assign operators (such as += or *=)?\n",
    "What is the outcome?"
   ]
  },
  {
   "cell_type": "markdown",
   "metadata": {},
   "source": [
    "yes. \n",
    "the operation is applied to all elements of that array. "
   ]
  },
  {
   "cell_type": "markdown",
   "metadata": {},
   "source": [
    "Q8. Does a numpy array contain fixed-length strings? What happens if you allocate a \n",
    "longer string to one of these arrays?"
   ]
  },
  {
   "cell_type": "markdown",
   "metadata": {},
   "source": [
    "Yes,  a numpy array contain fixed-length strings. \n",
    "if longer string is provided then it will be truncated to fixed length characters provided\n",
    "while creating arrary. "
   ]
  },
  {
   "cell_type": "markdown",
   "metadata": {},
   "source": [
    "Q9. What happens when you combine two numpy arrays using an operation like addition (+) \n",
    "or multiplication (*)? What are the conditions for combining two numpy arrays?"
   ]
  },
  {
   "cell_type": "markdown",
   "metadata": {},
   "source": [
    "they must be of same dimentions. \n",
    "each elements of one array is added or multiplied with the elements of other array\n",
    "having same index value. "
   ]
  },
  {
   "cell_type": "markdown",
   "metadata": {},
   "source": [
    "Q10. What is the best way to use a Boolean array to mask another array?"
   ]
  },
  {
   "cell_type": "code",
   "execution_count": null,
   "metadata": {},
   "outputs": [],
   "source": [
    "# Using a Boolean array as a mask produces a one-dimensional\n",
    "# array, regardless of the shape of the array operands.\n",
    "\n",
    "import numpy as np \n",
    "B = np.arange(1,10).reshape(3,3)\n",
    "print (B)\n",
    "print(B[B > 7])"
   ]
  },
  {
   "cell_type": "markdown",
   "metadata": {},
   "source": [
    "Q11. What are three different ways to get the standard deviation of a wide collection \n",
    "    of data using both standard Python and its packages? Sort the three of them by how quickly they execute."
   ]
  },
  {
   "cell_type": "markdown",
   "metadata": {},
   "source": [
    "standard deviation can be calculated using following methods. \n",
    "they are sorted in ascending order of time they take to calculate standard deviation.\n",
    "\n",
    "using numpy direct function np.std ()\n",
    "using numpy arrays,\n",
    "using Python lists"
   ]
  },
  {
   "cell_type": "markdown",
   "metadata": {},
   "source": [
    "12. What is the dimensionality of a Boolean mask-generated array?"
   ]
  },
  {
   "cell_type": "markdown",
   "metadata": {},
   "source": [
    "boolean mask generated array is of one dimention only. "
   ]
  }
 ],
 "metadata": {
  "interpreter": {
   "hash": "f906f9915368e05740e3b6d1b29327366d6cf36e907e5df6d069f2aad65d0549"
  },
  "kernelspec": {
   "display_name": "Python 3.9.7 64-bit ('environment1': conda)",
   "language": "python",
   "name": "python3"
  },
  "language_info": {
   "name": "python",
   "version": "3.9.7"
  },
  "orig_nbformat": 4
 },
 "nbformat": 4,
 "nbformat_minor": 2
}
