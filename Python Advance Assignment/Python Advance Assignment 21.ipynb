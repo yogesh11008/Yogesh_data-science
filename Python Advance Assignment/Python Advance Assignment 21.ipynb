{
 "cells": [
  {
   "cell_type": "markdown",
   "metadata": {},
   "source": [
    "Q1. What is a probability distribution, exactly? If the values are meant to be random, \n",
    "    how can you predict them at all?"
   ]
  },
  {
   "cell_type": "markdown",
   "metadata": {},
   "source": [
    "A probability distribution is a statistical function that describes all the \n",
    "possible values and likelihoods that a random variable can take within a given range. \n",
    "\n",
    "values are meant to be random but all the values do not have the same probability. \n",
    "some values have higher probability than others. and that values can be predicted. "
   ]
  },
  {
   "cell_type": "markdown",
   "metadata": {},
   "source": [
    "Q2. Is there a distinction between true random numbers and pseudo-random numbers, if there is one? Why are the latter considered “good enough”?"
   ]
  },
  {
   "cell_type": "code",
   "execution_count": null,
   "metadata": {},
   "outputs": [],
   "source": [
    "A pseudo random number is taken from a sequence that behaves as if randomly chosen.\n",
    "while random numbers are different every time, pseudo random numbers are having same \n",
    "pattern each time they produced. \n",
    "\n",
    "being completely deterministic, it is not suitable for all purposes, but we can create \n",
    "our own pseudo number generator which serves the purpose unless the code is cracked. "
   ]
  },
  {
   "cell_type": "markdown",
   "metadata": {},
   "source": [
    "Q3. What are the two main factors that influence the behaviour of a \"normal\" probability distribution?"
   ]
  },
  {
   "cell_type": "markdown",
   "metadata": {},
   "source": [
    "Mean and standard deviation are the two main factors that influence the behaviour of a \"normal\" probability distribution"
   ]
  },
  {
   "cell_type": "markdown",
   "metadata": {},
   "source": [
    "Q4. Provide a real-life example of a normal distribution.\n"
   ]
  },
  {
   "cell_type": "markdown",
   "metadata": {},
   "source": [
    "below are some real life example of a normal distribution.\n",
    "Heights of people.\n",
    "Measurement errors.\n",
    "Blood pressure.\n"
   ]
  },
  {
   "cell_type": "markdown",
   "metadata": {},
   "source": [
    "Q5. In the short term, how can you expect a probability distribution to behave? What do you think will happen as the number of trials grows?\n"
   ]
  },
  {
   "cell_type": "markdown",
   "metadata": {},
   "source": [
    "as the number of trials grows, the pattern of probability distribution grows to more accurate one. errors are reduced in large number of trials. "
   ]
  },
  {
   "cell_type": "markdown",
   "metadata": {},
   "source": [
    "Q6. What kind of object can be shuffled by using random.shuffle?\n"
   ]
  },
  {
   "cell_type": "markdown",
   "metadata": {},
   "source": [
    "The action of shuffle is to rearrange the order of a list so\n",
    "that any element can appear in any position. The number of\n",
    "elements does not change, nor do the number of duplicate\n",
    "items, if any."
   ]
  },
  {
   "cell_type": "markdown",
   "metadata": {},
   "source": [
    "Q7. Describe the math package's general categories of functions.\n"
   ]
  },
  {
   "cell_type": "markdown",
   "metadata": {},
   "source": [
    "below are the general categories of the functions: \n",
    "\n",
    "Standard trigonometric functions\n",
    "Inverse trigonometric functions\n",
    "Degree and radian conversion\n",
    "Logarithmic functions\n",
    "Hyperbolic functions"
   ]
  },
  {
   "cell_type": "markdown",
   "metadata": {},
   "source": [
    "Q8. What is the relationship between exponentiation and logarithms?\n"
   ]
  },
  {
   "cell_type": "markdown",
   "metadata": {},
   "source": [
    "exponentiation and logarithms have inverse relationship. "
   ]
  },
  {
   "cell_type": "markdown",
   "metadata": {},
   "source": [
    "Q9. What are the three logarithmic functions that Python supports?\n"
   ]
  },
  {
   "cell_type": "markdown",
   "metadata": {},
   "source": [
    "Log, log2 and log10 are the three three logarithmic functions that Python supports"
   ]
  }
 ],
 "metadata": {
  "language_info": {
   "name": "python"
  },
  "orig_nbformat": 4
 },
 "nbformat": 4,
 "nbformat_minor": 2
}
