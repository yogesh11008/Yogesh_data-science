{
 "cells": [
  {
   "cell_type": "markdown",
   "metadata": {},
   "source": [
    "1.\tWhat are the new features added in Python 3.8 version?"
   ]
  },
  {
   "cell_type": "markdown",
   "metadata": {},
   "source": [
    "below are some new features in python 3.8\n",
    "1. Positional-only parameters(/)\n",
    "2. Assignment Expressions(:=)\n",
    "3. No parentheses for return and yield statements\n",
    "4. pow() function\n",
    "5. Dictionary comprehension"
   ]
  },
  {
   "cell_type": "markdown",
   "metadata": {},
   "source": [
    "2.\tWhat is monkey patching in Python?"
   ]
  },
  {
   "cell_type": "markdown",
   "metadata": {},
   "source": [
    "monkey patch refers to dynamic (or run-time) modifications of a class or module.\n",
    "changing the behavior of code at run-time is called monkey patching. "
   ]
  },
  {
   "cell_type": "markdown",
   "metadata": {},
   "source": [
    "3.\tWhat is the difference between a shallow copy and deep copy?"
   ]
  },
  {
   "cell_type": "markdown",
   "metadata": {},
   "source": [
    "shallow copy creates only reference to the objects that are being copied. when we\n",
    "change the copied object, original object also changes. \n",
    "while in deep copy a new object is created which can be edited without changing the \n",
    "original object. "
   ]
  },
  {
   "cell_type": "markdown",
   "metadata": {},
   "source": [
    "4.\tWhat is the maximum possible length of an identifier?"
   ]
  },
  {
   "cell_type": "markdown",
   "metadata": {},
   "source": [
    "there is no such restrictions regarding length of identifier in python. but ideally we\n",
    "should limit it to 79 characters. "
   ]
  },
  {
   "cell_type": "markdown",
   "metadata": {},
   "source": [
    "5.\tWhat is generator comprehension?"
   ]
  },
  {
   "cell_type": "markdown",
   "metadata": {},
   "source": [
    "The Generator comprehension allows us to create a generator without the yield keyword.\n",
    "it is same as list comprehension but here parenthesis is used instead of square brackets. \n",
    "and it gives generator object and not the list. "
   ]
  },
  {
   "cell_type": "code",
   "execution_count": 8,
   "metadata": {},
   "outputs": [
    {
     "name": "stdout",
     "output_type": "stream",
     "text": [
      "<generator object <genexpr> at 0x0000018630D3BC80>\n",
      "0 2 4 6 8 10 12 14 "
     ]
    }
   ],
   "source": [
    "# example of generator comprehension. \n",
    "generator_comprehension = (i for i in range(15) if i % 2 == 0)\n",
    "  \n",
    "print(generator_comprehension)\n",
    "\n",
    "for i in generator_comprehension:\n",
    "    print(i, end=\" \")"
   ]
  },
  {
   "cell_type": "code",
   "execution_count": null,
   "metadata": {},
   "outputs": [],
   "source": []
  }
 ],
 "metadata": {
  "interpreter": {
   "hash": "f906f9915368e05740e3b6d1b29327366d6cf36e907e5df6d069f2aad65d0549"
  },
  "kernelspec": {
   "display_name": "Python 3.9.7 64-bit ('environment1': conda)",
   "language": "python",
   "name": "python3"
  },
  "language_info": {
   "codemirror_mode": {
    "name": "ipython",
    "version": 3
   },
   "file_extension": ".py",
   "mimetype": "text/x-python",
   "name": "python",
   "nbconvert_exporter": "python",
   "pygments_lexer": "ipython3",
   "version": "3.9.7"
  },
  "orig_nbformat": 4
 },
 "nbformat": 4,
 "nbformat_minor": 2
}
