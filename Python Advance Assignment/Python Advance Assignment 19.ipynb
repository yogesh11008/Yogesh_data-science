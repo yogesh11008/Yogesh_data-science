{
 "cells": [
  {
   "cell_type": "markdown",
   "metadata": {},
   "source": [
    "Q1. Define the relationship between a class and its instances. Is it a one-to-one or a one-to-many partnership, for example?"
   ]
  },
  {
   "cell_type": "code",
   "execution_count": null,
   "metadata": {},
   "outputs": [],
   "source": [
    "# Instance is An individual object of a certain class. \n",
    "# Class to instance is one to many relationship. \n",
    "# for example from one class, many instances can be created. \n",
    "# in below example : automobile is class and bike , car are instances. \n",
    "class Automobile: \n",
    "    pass \n",
    "car = Automobile ()\n",
    "bike = Automobile ()"
   ]
  },
  {
   "cell_type": "markdown",
   "metadata": {},
   "source": [
    "Q2. What kind of data is held only in an instance?"
   ]
  },
  {
   "cell_type": "markdown",
   "metadata": {},
   "source": [
    "Instance variables are held in instance only. "
   ]
  },
  {
   "cell_type": "markdown",
   "metadata": {},
   "source": [
    "Q3. What kind of knowledge is stored in a class?"
   ]
  },
  {
   "cell_type": "markdown",
   "metadata": {},
   "source": [
    "A class is a user-defined blueprint or prototype from which objects are created.\n",
    "each class contains class attributes and class methods in it. "
   ]
  },
  {
   "cell_type": "markdown",
   "metadata": {},
   "source": [
    "Q4. What exactly is a method, and how is it different from a regular function?"
   ]
  },
  {
   "cell_type": "markdown",
   "metadata": {},
   "source": [
    "methods are defined in a particular class only. while functions are not specific to any class. \n",
    "in class methods one argument \"self\" is passed which denotes the object for which that \n",
    "method is used. "
   ]
  },
  {
   "cell_type": "markdown",
   "metadata": {},
   "source": [
    "Q5. Is inheritance supported in Python, and if so, what is the syntax?"
   ]
  },
  {
   "cell_type": "code",
   "execution_count": null,
   "metadata": {},
   "outputs": [],
   "source": [
    "# Yes, inheritance is supported in Python\n",
    "# below is the syntax \n",
    "# suppose we want to inherit a class called apple into the class called samsung, \n",
    "# we can do that following way. \n",
    "class Apple : \n",
    "    pass\n",
    "class Samsung (Apple): \n",
    "    pass "
   ]
  },
  {
   "cell_type": "markdown",
   "metadata": {},
   "source": [
    "Q6. How much encapsulation (making instance or class variables private) does Python support?"
   ]
  },
  {
   "cell_type": "markdown",
   "metadata": {},
   "source": [
    "python supports encapsulation by the means of private variables and private methods. \n",
    "Variable and method names beginning with an underscore (_ ) are intended\n",
    "to be private. Moreover, names beginning with a double underscore (_ _ ) are made inaccessible through a process called name mangling."
   ]
  },
  {
   "cell_type": "markdown",
   "metadata": {},
   "source": [
    "Q7. How do you distinguish between a class variable and an instance variable?"
   ]
  },
  {
   "cell_type": "markdown",
   "metadata": {},
   "source": [
    "in instance we need to use the dot (.) syntax while creating. \n",
    "while class variable can be defined without it. \n",
    "\n",
    "instance variable can be accessed by that particular instance only. \n",
    "while class variable can be accessed by all instances of the class. \n"
   ]
  },
  {
   "cell_type": "markdown",
   "metadata": {},
   "source": [
    "Q8. When, if ever, can self be included in a class's method definitions?"
   ]
  },
  {
   "cell_type": "markdown",
   "metadata": {},
   "source": [
    "all class methods include self as first parameter unless it is not the static method. "
   ]
  },
  {
   "cell_type": "markdown",
   "metadata": {},
   "source": [
    "Q9. What is the difference between the _ _add_ _ and the _ _radd_ _ methods?"
   ]
  },
  {
   "cell_type": "markdown",
   "metadata": {},
   "source": [
    "__add_  for a particular class is invoked when one of its objects is added to another object. This assumes, however, that the object is the left operand. \n",
    "if the object is the right operand, then  _radd_  method may be called"
   ]
  },
  {
   "cell_type": "markdown",
   "metadata": {},
   "source": [
    "Q10. When is it necessary to use a reflection method? When do you not need it, even though you support the operation in question?"
   ]
  },
  {
   "cell_type": "markdown",
   "metadata": {},
   "source": [
    "These methods are invoked when an object in question is the right (or rather, second) operand in an expression."
   ]
  },
  {
   "cell_type": "markdown",
   "metadata": {},
   "source": [
    "Q11. What is the _ _iadd_ _ method called?"
   ]
  },
  {
   "cell_type": "markdown",
   "metadata": {},
   "source": [
    "This function is used to assign and add the current value. This operation does “a+=b” operation"
   ]
  },
  {
   "cell_type": "markdown",
   "metadata": {},
   "source": [
    "Q12. Is the _ _init_ _ method inherited by subclasses? What do you do if you need to customize its behavior within a subclass?"
   ]
  },
  {
   "cell_type": "markdown",
   "metadata": {},
   "source": [
    "yes, the _ _init_ _ method inherited by subclasses. \n",
    "we can give a new __init__ method for the subclass. and if we want __init__ of \n",
    "superclass also, then we can use super().__init__ method while creating the subclass. \n"
   ]
  }
 ],
 "metadata": {
  "interpreter": {
   "hash": "f906f9915368e05740e3b6d1b29327366d6cf36e907e5df6d069f2aad65d0549"
  },
  "kernelspec": {
   "display_name": "Python 3.9.7 64-bit ('environment1': conda)",
   "language": "python",
   "name": "python3"
  },
  "language_info": {
   "name": "python",
   "version": "3.9.7"
  },
  "orig_nbformat": 4
 },
 "nbformat": 4,
 "nbformat_minor": 2
}
