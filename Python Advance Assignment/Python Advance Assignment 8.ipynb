{
 "cells": [
  {
   "cell_type": "markdown",
   "metadata": {},
   "source": [
    "Q1. What are the two latest user-defined exception constraints in Python 3.X?"
   ]
  },
  {
   "cell_type": "markdown",
   "metadata": {},
   "source": [
    "the first constraint is,  In 3.X, exceptions must be defined by classes\n",
    "and the second one is, exception classes must be derived from the builtin\n",
    "class BaseException or its subclass Exception. "
   ]
  },
  {
   "cell_type": "markdown",
   "metadata": {},
   "source": [
    "\n",
    "Q2. How are class-based exceptions that have been raised matched to handlers?"
   ]
  },
  {
   "cell_type": "markdown",
   "metadata": {},
   "source": [
    "Class-based exceptions match by superclass relationships: naming a superclass in\n",
    "an exception handler will catch instances of that class, as well as instances of any\n",
    "of its subclasses lower in the class tree. Because of this, you can think of superclasses\n",
    "as general exception categories and subclasses as more specific types of exceptions\n",
    "within those categories."
   ]
  },
  {
   "cell_type": "markdown",
   "metadata": {},
   "source": [
    "Q3. Describe two methods for attaching context information to exception artefacts.\n"
   ]
  },
  {
   "cell_type": "markdown",
   "metadata": {},
   "source": [
    "You can attach context information to class-based exceptions by \n",
    "1. filling out instance attributes in the instance object raised, usually in a custom class constructor. For simpler needs, built-in exception superclasses provide a constructor that stores its arguments on the instance automatically\n",
    "2. In exception handlers, you list a variable to be assigned to the raised instance, \n",
    "then go through this name to access attached state information and call any methods defined\n",
    "in the class."
   ]
  },
  {
   "cell_type": "markdown",
   "metadata": {},
   "source": [
    "Q4. Describe two methods for specifying the  error message text of an exception object\n"
   ]
  },
  {
   "cell_type": "markdown",
   "metadata": {},
   "source": [
    "1. The error message text in class-based exceptions can be specified with a custom\n",
    "__str__ operator overloading method.\n",
    "2. built-in exception superclasses automatically display anything you pass to the class constructor"
   ]
  },
  {
   "cell_type": "markdown",
   "metadata": {},
   "source": [
    "Q5. Why do you no longer use string-based exceptions?"
   ]
  },
  {
   "cell_type": "markdown",
   "metadata": {},
   "source": [
    "string-based exceptions did not support categories, state information, or behavior inheritance in the way class-based exceptions do. In practice, this made string-based exceptions easier to use at first when programs were small, but more complex to use as programs grew larger."
   ]
  }
 ],
 "metadata": {
  "language_info": {
   "name": "python"
  },
  "orig_nbformat": 4
 },
 "nbformat": 4,
 "nbformat_minor": 2
}
