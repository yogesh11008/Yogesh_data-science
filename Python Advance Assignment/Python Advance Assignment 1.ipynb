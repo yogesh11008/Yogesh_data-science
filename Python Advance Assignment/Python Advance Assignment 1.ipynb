{
 "cells": [
  {
   "cell_type": "markdown",
   "metadata": {},
   "source": [
    "Q1. What is the purpose of Python's OOP?"
   ]
  },
  {
   "cell_type": "markdown",
   "metadata": {},
   "source": [
    "OOP is used to write code in dynamic fashion. \n",
    "It is primarily used to save time. and organise the code properly. \n",
    "it increases readability of code. "
   ]
  },
  {
   "cell_type": "markdown",
   "metadata": {},
   "source": [
    "Q2. Where does an inheritance search look for an attribute?"
   ]
  },
  {
   "cell_type": "markdown",
   "metadata": {},
   "source": [
    "inheritance search looks from bottom to top (child class to parent class) for an attribute"
   ]
  },
  {
   "cell_type": "markdown",
   "metadata": {},
   "source": [
    "Q3. How do you distinguish between a class object and an instance object?"
   ]
  },
  {
   "cell_type": "markdown",
   "metadata": {},
   "source": [
    "A class object is a template for creating objects in program while The instance object is an instance of a class.\n",
    "A class does not allocate memory space when it is created while Object allocates memory space whenever they are created."
   ]
  },
  {
   "cell_type": "markdown",
   "metadata": {},
   "source": [
    "Q4. What makes the first argument in a class’s method function special?"
   ]
  },
  {
   "cell_type": "markdown",
   "metadata": {},
   "source": [
    "the first argument in any class's method refers to the object itself. "
   ]
  },
  {
   "cell_type": "markdown",
   "metadata": {},
   "source": [
    "Q5. What is the purpose of the __init__ method?"
   ]
  },
  {
   "cell_type": "markdown",
   "metadata": {},
   "source": [
    "Using init method we can provide arguments to the instance objects at the time of its creation itself. "
   ]
  },
  {
   "cell_type": "markdown",
   "metadata": {},
   "source": [
    "Q6. What is the process for creating a class instance?"
   ]
  },
  {
   "cell_type": "code",
   "execution_count": null,
   "metadata": {},
   "outputs": [],
   "source": [
    "#class instance is created in the following way. \n",
    "# defining a class named automobile\n",
    "class automobile :\n",
    "    def __init__(self, speed, average, price): \n",
    "        self.speed = speed \n",
    "        self.average = average \n",
    "        self.price = price \n",
    "# creating an instance \n",
    "car = automobile (120, 20, 5.2)\n",
    "\n",
    "print (car.price) \n",
    "print (car.average)\n",
    "print (car.speed)\n",
    "\n",
    "\n"
   ]
  },
  {
   "cell_type": "markdown",
   "metadata": {},
   "source": [
    "Q7. What is the process for creating a class?"
   ]
  },
  {
   "cell_type": "code",
   "execution_count": null,
   "metadata": {},
   "outputs": [],
   "source": [
    "#class instance is created in the following way. \n",
    "# defining a class named automobile\n",
    "class automobile :\n",
    "    def __init__(self, speed, average, price): \n",
    "        self.speed = speed \n",
    "        self.average = average \n",
    "        self.price = price "
   ]
  },
  {
   "cell_type": "markdown",
   "metadata": {},
   "source": [
    "Q8. How would you define the superclasses of a class?"
   ]
  },
  {
   "cell_type": "code",
   "execution_count": null,
   "metadata": {},
   "outputs": [],
   "source": [
    "#superclass can be defined in code in below manner \n",
    "class automobile :\n",
    "    def __init__(self, speed, average, price): \n",
    "        self.speed = speed \n",
    "        self.average = average \n",
    "        self.price = price \n",
    "\n",
    "class car (automobile): \n",
    "    pass\n",
    "# here automobile class is the superclass for car class. it is also called as parent class. "
   ]
  }
 ],
 "metadata": {
  "interpreter": {
   "hash": "f906f9915368e05740e3b6d1b29327366d6cf36e907e5df6d069f2aad65d0549"
  },
  "kernelspec": {
   "display_name": "Python 3.9.7 64-bit ('environment1': conda)",
   "language": "python",
   "name": "python3"
  },
  "language_info": {
   "codemirror_mode": {
    "name": "ipython",
    "version": 3
   },
   "file_extension": ".py",
   "mimetype": "text/x-python",
   "name": "python",
   "nbconvert_exporter": "python",
   "pygments_lexer": "ipython3",
   "version": "3.9.7"
  },
  "orig_nbformat": 4
 },
 "nbformat": 4,
 "nbformat_minor": 2
}
