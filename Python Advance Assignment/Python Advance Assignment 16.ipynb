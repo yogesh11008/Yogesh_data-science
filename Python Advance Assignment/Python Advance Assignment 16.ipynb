{
 "cells": [
  {
   "cell_type": "markdown",
   "metadata": {},
   "source": [
    "Q1. What is the benefit of regular expressions?"
   ]
  },
  {
   "cell_type": "markdown",
   "metadata": {},
   "source": [
    "RegEx can be used to check if a string contains the specified search pattern."
   ]
  },
  {
   "cell_type": "markdown",
   "metadata": {},
   "source": [
    "Q2. Describe the difference between the effects of \"(ab)c+\" and \"a(bc)+.\" Which of these, if any, is the unqualified pattern \"abc+\"?"
   ]
  },
  {
   "cell_type": "markdown",
   "metadata": {},
   "source": [
    "\"(ab)c+\" will look for exact match of ab and then multiple c. \n",
    "for example \n",
    "abc\n",
    "abccc\n",
    "abcccccc\n",
    "\n",
    "while \"a(bc)+.\" will look for exact match of \"a\" and then multiple instance of \"bc\" then \".\"\n",
    "for example. \n",
    "abcbc.\n",
    "abcbcbcbc.\n",
    "\n",
    "\"(ab)c+\" is same as \"abc+\". "
   ]
  },
  {
   "cell_type": "markdown",
   "metadata": {},
   "source": [
    "Q3. How much do you need to use the following sentence while using regular expressions?\n",
    "    import re"
   ]
  },
  {
   "cell_type": "markdown",
   "metadata": {},
   "source": [
    "we need to import re module once in the code. "
   ]
  },
  {
   "cell_type": "markdown",
   "metadata": {},
   "source": [
    "Q4. Which characters have special significance in square brackets when expressing a range, and under what circumstances?"
   ]
  },
  {
   "cell_type": "markdown",
   "metadata": {},
   "source": [
    "\"-\" character is used to denote a range in square bracket when it is used in the middle of \n",
    "an expression. "
   ]
  },
  {
   "cell_type": "markdown",
   "metadata": {},
   "source": [
    "Q5. How does compiling a regular-expression object benefit you?"
   ]
  },
  {
   "cell_type": "markdown",
   "metadata": {},
   "source": [
    "by using regular expression we can find patterns from the string. \n",
    "we can find specific characters in string without using regex but if we want \n",
    "to find a pattern then we have to use regex. otherwise we need to find all the combinations \n",
    "of a pattern separately which takes lot of time."
   ]
  },
  {
   "cell_type": "markdown",
   "metadata": {},
   "source": [
    "Q6. What are some examples of how to use the match object returned by re.match and re.search?"
   ]
  },
  {
   "cell_type": "code",
   "execution_count": null,
   "metadata": {},
   "outputs": [],
   "source": [
    "match object can be used by following ways. \n",
    "\n",
    "Match.groups\n",
    "Return a tuple containing all the subgroups of the match, \n",
    "from 1 up to however many groups are in the pattern.\n",
    "\n",
    "Match.start([group])\n",
    "Match.end([group])\n",
    "Return the indices of the start and end of the substring matched by group\n",
    "\n",
    "Match.lastgroup\n",
    "The name of the last matched capturing group, or None if the group didn’t have a name, \n",
    "or if no group was matched at all.\n",
    "\n",
    "Match.re\n",
    "The regular expression object whose match() or search() method produced this match instance.\n",
    "\n",
    "Match.string\n",
    "The string passed to match() or search().\n"
   ]
  },
  {
   "cell_type": "markdown",
   "metadata": {},
   "source": [
    "Q7. What is the difference between using a vertical bar (|) as an alteration and using square brackets as a character set?"
   ]
  },
  {
   "cell_type": "markdown",
   "metadata": {},
   "source": [
    "using vertical bar and square brackets are same for the character class. \n",
    "for example \n",
    "(a|b|c) and [abc] are same .\n",
    "\n",
    "but we can not separate the group of characters using square bracket. \n",
    "for example\n",
    "if we want to search either abc or efg we have to use vertical bar as below. \n",
    "(abc|efg)"
   ]
  },
  {
   "cell_type": "markdown",
   "metadata": {},
   "source": [
    "Q8. In regular-expression search patterns, why is it necessary to use the raw-string indicator (r)? In   replacement strings?\n",
    "\n"
   ]
  },
  {
   "cell_type": "markdown",
   "metadata": {},
   "source": [
    "by default python attaches special meaning to some characters followed by \\. \n",
    "to avoid that either we have to escape it using another \\ ahead of \\. or we \n",
    "can use raw string notation r\"text\". "
   ]
  }
 ],
 "metadata": {
  "interpreter": {
   "hash": "f906f9915368e05740e3b6d1b29327366d6cf36e907e5df6d069f2aad65d0549"
  },
  "kernelspec": {
   "display_name": "Python 3.9.7 64-bit ('environment1': conda)",
   "language": "python",
   "name": "python3"
  },
  "language_info": {
   "name": "python",
   "version": "3.9.7"
  },
  "orig_nbformat": 4
 },
 "nbformat": 4,
 "nbformat_minor": 2
}
