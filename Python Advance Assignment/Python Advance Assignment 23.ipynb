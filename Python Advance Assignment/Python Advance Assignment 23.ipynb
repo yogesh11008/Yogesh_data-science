{
 "cells": [
  {
   "cell_type": "markdown",
   "metadata": {},
   "source": [
    "Q1. If you have any, what are your choices for increasing the comparison between \n",
    "    different figures on the same graph?"
   ]
  },
  {
   "cell_type": "markdown",
   "metadata": {},
   "source": [
    "We can use keyword argument \"marker\" to emphasize each point with a specified marker\n",
    "like 'x', '*', '+', triangle, square, etc. \n",
    "\n",
    "we can also specify marker size, marker color, line color, line type like Solid line, Dotted line Dashed line."
   ]
  },
  {
   "cell_type": "markdown",
   "metadata": {},
   "source": [
    "Q2. Can you explain the benefit of compound interest over a higher rate of interest that \n",
    "    does not compound after reading this chapter?"
   ]
  },
  {
   "cell_type": "markdown",
   "metadata": {},
   "source": [
    "Exponential growth (such as compound interest), however slow, must eventually\n",
    "overtake linear growth, however fast.\n",
    "\n",
    "for example : \n",
    "20 % simple interest on 1000 for 20 year will yield : 5000\n",
    "10 % compound interest on 1000 for 20 year will yield : 6727\n"
   ]
  },
  {
   "cell_type": "markdown",
   "metadata": {},
   "source": [
    "Q3. What exactly is histogram? Name a numpy method for creating such a graph."
   ]
  },
  {
   "cell_type": "code",
   "execution_count": 3,
   "metadata": {},
   "outputs": [
    {
     "data": {
      "image/png": "[encoded data removed]",
      "text/plain": [
       "<Figure size 432x288 with 1 Axes>"
      ]
     },
     "metadata": {
      "needs_background": "light"
     },
     "output_type": "display_data"
    }
   ],
   "source": [
    "# A histogram is a graph showing frequency distributions.\n",
    "\n",
    "# It is a graph showing the number of observations within each given interval.\n",
    "# In Matplotlib, we use the hist() function to create histograms.\n",
    "\n",
    "import matplotlib.pyplot as plt\n",
    "import numpy as np\n",
    "\n",
    "x = np.random.normal(170, 10, 250)\n",
    "\n",
    "plt.hist(x)\n",
    "plt.show()"
   ]
  },
  {
   "cell_type": "markdown",
   "metadata": {},
   "source": [
    "Q4. If necessary, how do you change the aspect ratios between the X and Y axes?"
   ]
  },
  {
   "cell_type": "code",
   "execution_count": 7,
   "metadata": {},
   "outputs": [
    {
     "data": {
      "text/plain": [
       "[<matplotlib.lines.Line2D at 0x2d28e7168b0>]"
      ]
     },
     "execution_count": 7,
     "metadata": {},
     "output_type": "execute_result"
    },
    {
     "data": {
      "image/png": "[encoded data removed]",
      "text/plain": [
       "<Figure size 432x288 with 1 Axes>"
      ]
     },
     "metadata": {
      "needs_background": "light"
     },
     "output_type": "display_data"
    }
   ],
   "source": [
    "# we have set_aspect() method in matplotlib for aspect ratio setting. \n",
    "import matplotlib.pyplot as plt\n",
    "import numpy as np\n",
    "\n",
    "# without aspect ratio\n",
    "x = np.arange(10,50,2)\n",
    "y = np.arange(10,50,2)\n",
    "plt.plot(x,y)\n"
   ]
  },
  {
   "cell_type": "code",
   "execution_count": 11,
   "metadata": {},
   "outputs": [
    {
     "data": {
      "text/plain": [
       "[<matplotlib.lines.Line2D at 0x2d28e85a3a0>]"
      ]
     },
     "execution_count": 11,
     "metadata": {},
     "output_type": "execute_result"
    },
    {
     "data": {
      "image/png": "[encoded data removed]",
      "text/plain": [
       "<Figure size 432x288 with 1 Axes>"
      ]
     },
     "metadata": {
      "needs_background": "light"
     },
     "output_type": "display_data"
    }
   ],
   "source": [
    "# with specified aspect ratio \n",
    "\n",
    "x = np.arange(10,50,2)\n",
    "y = np.arange(10,50,2)\n",
    "ax = plt.gca()\n",
    "ax.set_aspect(3)\n",
    "plt.plot(x,y)"
   ]
  },
  {
   "cell_type": "markdown",
   "metadata": {},
   "source": [
    "Q5. Compare and contrast the three types of array multiplication between two numpy arrays: dot product, outer product, and regular multiplication of two numpy arrays."
   ]
  },
  {
   "cell_type": "markdown",
   "metadata": {},
   "source": [
    "Dot product: \n",
    "in the dot product of two one-dimensional arrays, The\n",
    "two arrays must have the same length. The action is to multiply\n",
    "each element in A to its corresponding element in B, and then\n",
    "sum those products, producing a single scalar value.\n",
    "\n",
    "Dot product of two dimentional erray is complex. \n",
    "Here’s the procedure.\n",
    "Multiply each item in the first row of A by each corresponding item\n",
    "in the first column of B. Get the sum. This becomes C[0,0].\n",
    "Multiply each item in the first row of A by each corresponding item\n",
    "in the second column of B. Get the sum. This becomes C[0,1].\n",
    "Multiply each item in the second row of A by each corresponding\n",
    "item in the first column of B. Get the sum. This becomes C[1,0].\n",
    "Multiply each item in the second row of A by each corresponding\n",
    "item in the second column of B. Get the sum. This becomes C[1,1].\n",
    "\n",
    "Outer product: \n",
    "the outer product contains every combination of A * B, so that if C is the result,\n",
    "then C[x, y] contains A[x] multiplied by B[y].\n",
    "\n",
    "Regular Multiplication : \n",
    "in regular multiplication each element of an array is multiplied with the element of \n",
    "second array having same place value. Both the array must be of same shape. "
   ]
  },
  {
   "cell_type": "markdown",
   "metadata": {},
   "source": [
    "Q6. Before you buy a home, which numpy function will you use to measure your monthly \n",
    "    mortgage payment?\n"
   ]
  },
  {
   "cell_type": "markdown",
   "metadata": {},
   "source": [
    "we have pmt () function in numpy to calculate mortgage payment. \n",
    "pmt () takes 3 mandatory argument and two optional argument. \n",
    "future_value and when are the opetional argument. \n",
    "\"when\" takes value 1 or 0 to indicate whether a payment is due at the\n",
    "beginning or end of the payment period, respectively.\n",
    "\n",
    "np.pmt(rate, periods, present_value, future_value, when)"
   ]
  },
  {
   "cell_type": "markdown",
   "metadata": {},
   "source": [
    "Q7. Can string data be stored in numpy arrays? If so, list at least one restriction that applies to this data."
   ]
  },
  {
   "cell_type": "markdown",
   "metadata": {},
   "source": [
    "Yes, string data can be stored in numpy arrays. but numpy arrays can store strings only as a part of fixed-length structures. we have to specify the length of string otherwise numpy imposes a fixed length, based on the longest string."
   ]
  }
 ],
 "metadata": {
  "interpreter": {
   "hash": "f906f9915368e05740e3b6d1b29327366d6cf36e907e5df6d069f2aad65d0549"
  },
  "kernelspec": {
   "display_name": "Python 3.9.7 64-bit ('environment1': conda)",
   "language": "python",
   "name": "python3"
  },
  "language_info": {
   "codemirror_mode": {
    "name": "ipython",
    "version": 3
   },
   "file_extension": ".py",
   "mimetype": "text/x-python",
   "name": "python",
   "nbconvert_exporter": "python",
   "pygments_lexer": "ipython3",
   "version": "3.9.7"
  },
  "orig_nbformat": 4
 },
 "nbformat": 4,
 "nbformat_minor": 2
}
